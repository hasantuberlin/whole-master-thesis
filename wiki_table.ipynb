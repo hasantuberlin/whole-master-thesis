{
 "cells": [
  {
   "cell_type": "code",
   "execution_count": 8,
   "metadata": {},
   "outputs": [
    {
     "name": "stdout",
     "output_type": "stream",
     "text": [
      "[['Year', 'Series', 'Role', 'Notes', 'Source'], ['1997', \"''[[Lois & Clark: The New Adventures of Superman]]''\", 'Garret Grady', 'Episode: \"AKA Superman\"', ''], ['1997', \"''[[Reign: The Conqueror]]''\", 'Attalos', '', ''], ['1999', \"''[[Todd McFarlane's Spawn]]''\", 'Doctor, NSC Operative', 'Episode: \"Seed of the Hellspawn\"', ''], ['1999–2000', \"''[[Family Guy]]''\", 'Clerk, Randall Fargus', 'Episode: \"[[Holy Crap]]\" and \"Randall Fargus\"', ''], ['2004–06', \"''[[The Grim Adventures of Billy and Mandy]]''\", 'Enrest, Turtle, Psychiatrist, various voices', '', ''], ['2007–10', \"''[[Chowder (TV series)|Chowder]]''\", 'Mung Daal', '', ''], ['2013', \"''[[Kung Fu Panda: Legends of Awesomeness]]''\", 'Fu-xi', 'Episode: \"Serpent\\'s Tooth\"', ''], ['2014–15', \"''[[All Hail King Julien]]''\", 'Karl', '3 episodes', ''], ['2015', \"''[[Ultimate Spider-Man (TV series)|Ultimate Spider-Man]]''\", '[[Mesmero]], Attuma, Teacher', '', '']]\n",
      "Eddie the Squirrel, additional voices\n",
      "[['Year', 'Series', 'Role', 'Notes', 'Source'], ['1997', \"''[[Lois & Clark: The New Adventures of Superman]]''\", 'Garret Grady', 'Episode: \"AKA Superman\"', ''], ['1997', \"''[[Reign: The Conqueror]]''\", 'Attalos', '', ''], ['1998–2001', \"''[[CatDog]]''\", 'Eddie the Squirrel, additional voices', '', ''], ['1999', \"''[[Todd McFarlane's Spawn]]''\", 'Doctor, NSC Operative', 'Episode: \"Seed of the Hellspawn\"', ''], ['1999', \"''The Chimp Channel''\", 'Stan', '', ''], ['1999', \"''[[The Wild Thornberrys]]''\", 'Dr. Freed, Customer, Inspector Tabu', 'Episodes: \"Chew If by Sea\" and \"Polar Opposites\"', ''], ['1999–2000', \"''[[Family Guy]]''\", 'Clerk, Randall Fargus', 'Episode: \"[[Holy Crap]]\" and \"Randall Fargus\"', ''], ['2001–02', \"''[[Invader Zim]]''\", 'Mr. Slunchy, Earth Father, additional voices', '', ''], ['2003', \"''[[Ninja Scroll: The Series]]''\", 'Dakuan', '', ''], ['2006', \"''[[Catscratch]]''\", 'Carmendor Nuget', 'Episode: \"Blikmail/Love Jackal\"', ''], ['2008', \"''[[Ben 10: Alien Force]]''\", 'Dr. Animo', 'Episode: \"Voided\"', ''], ['2013', \"''[[Kung Fu Panda: Legends of Awesomeness]]''\", 'Fu-xi', 'Episode: \"Serpent\\'s Tooth\"', ''], ['2014–15', \"''[[All Hail King Julien]]''\", 'Karl', '3 episodes', ''], ['2015', \"''[[Teenage Mutant Ninja Turtles (2012 TV series)|Teenage Mutant Ninja Turtles]]''\", 'Wyrm', 'Episode: \"The Weird World of Wyrm\"', '']]\n",
      "The Cramp Twins\n",
      "[['Year', 'Series', 'Role', 'Notes', 'Source'], ['1997', \"''[[Lois & Clark: The New Adventures of Superman]]''\", 'Garret Grady', 'Episode: \"AKA Superman\"', ''], ['1997', \"''[[Reign: The Conqueror]]''\", 'Attalos', '', ''], ['1998–2001', \"''[[CatDog]]''\", 'Eddie the Squirrel, additional voices', '', ''], ['1999', \"''[[Todd McFarlane's Spawn]]''\", 'Doctor, NSC Operative', 'Episode: \"Seed of the Hellspawn\"', ''], ['1999', \"''The Chimp Channel''\", 'Stan', '', ''], ['1999', \"''[[The Wild Thornberrys]]''\", 'Dr. Freed, Customer, Inspector Tabu', 'Episodes: \"Chew If by Sea\" and \"Polar Opposites\"', ''], ['2001–02', \"''[[Invader Zim]]''\", 'Mr. Slunchy, Earth Father, additional voices', '', ''], ['2004–06', \"''[[The Grim Adventures of Billy and Mandy]]''\", 'Enrest, Turtle, Psychiatrist, various voices', '', ''], ['2007', \"''[[Afro Samurai]]''\", 'Assassin 1, Patron 1, Ronin', '', ''], ['2011', \"''[[Scooby-Doo! Mystery Incorporated]]''\", 'Older Danny Darrow', 'Episode: \"Escape from Mystery Manor\"', ''], ['2014', \"''[[Wander Over Yonder]]''\", 'Wild Card', '\"The Big Job/The Helper\"', ''], ['2015', \"''[[Kirby Buckets]]''\", 'Shredlock', 'Episode: \"Failure to Launch\"', '']]\n",
      "Episodes: \"Holy Crap\" and \"Randall Fargus\"\n",
      "[['Year', 'Series', 'Role', 'Notes', 'Source'], ['1997', \"''[[Lois & Clark: The New Adventures of Superman]]''\", 'Garret Grady', 'Episode: \"AKA Superman\"', ''], ['1997', \"''[[Reign: The Conqueror]]''\", 'Attalos', '', ''], ['1998–2001', \"''[[CatDog]]''\", 'Eddie the Squirrel, additional voices', '', ''], ['1999', \"''[[Todd McFarlane's Spawn]]''\", 'Doctor, NSC Operative', 'Episode: \"Seed of the Hellspawn\"', ''], ['1999', \"''The Chimp Channel''\", 'Stan', '', ''], ['1999', \"''[[The Wild Thornberrys]]''\", 'Dr. Freed, Customer, Inspector Tabu', 'Episodes: \"Chew If by Sea\" and \"Polar Opposites\"', ''], ['2001–02', \"''[[Invader Zim]]''\", 'Mr. Slunchy, Earth Father, additional voices', '', ''], ['2004–06', \"''[[The Grim Adventures of Billy and Mandy]]''\", 'Enrest, Turtle, Psychiatrist, various voices', '', ''], ['2007', \"''[[Afro Samurai]]''\", 'Assassin 1, Patron 1, Ronin', '', ''], ['2011', \"''[[Scooby-Doo! Mystery Incorporated]]''\", 'Older Danny Darrow', 'Episode: \"Escape from Mystery Manor\"', ''], ['2014', \"''[[Wander Over Yonder]]''\", 'Wild Card', '\"The Big Job/The Helper\"', ''], ['2015', \"''[[Kirby Buckets]]''\", 'Shredlock', 'Episode: \"Failure to Launch\"', '']]\n",
      "Episodes: \"Holy Crap\" and \"Running Mates\"\n",
      "[['Year', 'Series', 'Role', 'Notes', 'Source'], ['1997', \"''[[Lois & Clark: The New Adventures of Superman]]''\", 'Garret Grady', 'Episode: \"AKA Superman\"', ''], ['1997', \"''[[Reign: The Conqueror]]''\", 'Attalos', '', ''], ['1999', \"''[[The Wild Thornberrys]]''\", 'Dr. Freed, Customer, Inspector Tabu', 'Episodes: \"Chew If by Sea\" and \"Polar Opposites\"', ''], ['2003', \"''[[The Cramp Twins]]''\", 'Bouncy Bob', 'Episode: \"Walk Like a Man/Bouncy Bob\"', ''], ['2006–07', \"''[[Ben 10]]''\", 'Dr. Animo', '', ''], ['2010–12', \"''[[Ben 10: Ultimate Alien]]''\", 'Dr. Animo', '', ''], ['2013–14', \"''[[Ben 10: Omniverse]]''\", 'Dr. Amino', '', ''], ['2015', \"''[[Kirby Buckets]]''\", 'Shredlock', 'Episode: \"Failure to Launch\"', '']]\n",
      "1997\n",
      "[['Year', 'Series', 'Role', 'Notes', 'Source'], ['1997', \"''[[Lois & Clark: The New Adventures of Superman]]''\", 'Garret Grady', 'Episode: \"AKA Superman\"', ''], ['1997', \"''[[Reign: The Conqueror]]''\", 'Attalos', '', ''], ['1998–2001', \"''[[CatDog]]''\", 'Eddie the Squirrel, additional voices', '', '<ref name=\"btva\"/>'], ['1999–2000', \"''[[Family Guy]]''\", 'Clerk, Randall Fargus', 'Episodes: \"[[Holy Crap]]\" and \"[[Running Mates (Family Guy)|Running Mates]]\"', ''], ['2003', \"''[[Rugrats]]''\", 'Gracko', 'Episode: \"Diapies and Dragons/Baby Power\"', ''], ['2006–07', \"''[[Ben 10]]''\", 'Dr. Animo', '', '<ref name=\"btva\"/>'], ['2010–12', \"''[[Ben 10: Ultimate Alien]]''\", 'Dr. Animo', '', ''], ['2013–14', \"''[[Ben 10: Omniverse]]''\", 'Dr. Amino', '', '<ref name=\"btva\"/>'], ['2015', \"''[[Teen Titans Go! (TV series)|Teen Titans Go!]]''\", 'TV', 'Episode: \"Oil Drums\"', '']]\n",
      "2001\n"
     ]
    }
   ],
   "source": [
    "import json,io,os\n",
    "rf=\"8425_1.json\"\n",
    "rd_folder_path=\"datasets/wiki/\"\n",
    "if rf.endswith(\".json\"):\n",
    "    try:\n",
    "        revision_list = json.load(io.open(os.path.join(rd_folder_path, rf), encoding=\"utf-8\"))    \n",
    "        for one_item in revision_list:\n",
    "            old_value=one_item[0]['dirty_table']\n",
    "            new_value=str(one_item[0]['new_value'].strip())\n",
    "            print(old_value)\n",
    "            print(new_value)\n",
    "    except Exception as e:\n",
    "        print('Exception from wiki: ', str(e))"
   ]
  },
  {
   "cell_type": "code",
   "execution_count": 10,
   "metadata": {},
   "outputs": [],
   "source": [
    "f_edit={ '30%':0.39, 'textual':0.20, 'numeric':0.10, 'alphanumeric':0.24, 'kb':0.14, 'rv':0.67,'od':0.65,'pv':0.67}\n",
    "f_fasttext={'30%':0.53, 'textual':0.21, 'numeric':0.00, 'alphanumeric':0.14, 'kb':0.09, 'rv':0.54,'od':0.52,'pv':0.52}\n"
   ]
  }
 ],
 "metadata": {
  "kernelspec": {
   "display_name": "Python 3",
   "language": "python",
   "name": "python3"
  },
  "language_info": {
   "codemirror_mode": {
    "name": "ipython",
    "version": 3
   },
   "file_extension": ".py",
   "mimetype": "text/x-python",
   "name": "python",
   "nbconvert_exporter": "python",
   "pygments_lexer": "ipython3",
   "version": "3.5.2"
  }
 },
 "nbformat": 4,
 "nbformat_minor": 2
}
