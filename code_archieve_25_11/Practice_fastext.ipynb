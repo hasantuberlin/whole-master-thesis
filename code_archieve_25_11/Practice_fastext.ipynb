{
 "cells": [
  {
   "cell_type": "code",
   "execution_count": 9,
   "metadata": {},
   "outputs": [],
   "source": [
    "import fasttext"
   ]
  },
  {
   "cell_type": "code",
   "execution_count": null,
   "metadata": {},
   "outputs": [],
   "source": []
  },
  {
   "cell_type": "code",
   "execution_count": 3,
   "metadata": {},
   "outputs": [],
   "source": [
    "#model = fasttext.train_unsupervised('fil9') # Word representation"
   ]
  },
  {
   "cell_type": "code",
   "execution_count": null,
   "metadata": {},
   "outputs": [],
   "source": [
    "#model.save_model(\"fil9.bin\")"
   ]
  },
  {
   "cell_type": "code",
   "execution_count": null,
   "metadata": {},
   "outputs": [],
   "source": [
    "ft = fasttext.load_model('model/wiki.en.bin')"
   ]
  },
  {
   "cell_type": "code",
   "execution_count": 7,
   "metadata": {},
   "outputs": [
    {
     "name": "stderr",
     "output_type": "stream",
     "text": [
      "Warning : `load_model` does not return WordVectorModel or SupervisedModel any more, but a `FastText` object which is very similar.\n"
     ]
    }
   ],
   "source": [
    "model = fasttext.load_model(\"model/fil9.bin\")"
   ]
  },
  {
   "cell_type": "code",
   "execution_count": 12,
   "metadata": {},
   "outputs": [
    {
     "data": {
      "text/plain": [
       "['the',\n",
       " 'of',\n",
       " 'one',\n",
       " 'zero',\n",
       " 'and',\n",
       " 'in',\n",
       " 'two',\n",
       " 'a',\n",
       " 'nine',\n",
       " 'to',\n",
       " 'is',\n",
       " 'eight',\n",
       " 'three',\n",
       " 'four',\n",
       " 'five',\n",
       " 'six',\n",
       " 'seven',\n",
       " 'for',\n",
       " 'are',\n",
       " 'as',\n",
       " 'was',\n",
       " 's',\n",
       " 'with',\n",
       " 'by',\n",
       " 'from',\n",
       " 'that',\n",
       " 'on',\n",
       " 'or',\n",
       " 'it',\n",
       " 'at',\n",
       " 'his',\n",
       " 'an',\n",
       " 'he',\n",
       " 'have',\n",
       " 'which',\n",
       " 'be',\n",
       " 'this',\n",
       " 'there',\n",
       " 'age',\n",
       " 'also',\n",
       " 'has',\n",
       " 'population',\n",
       " 'not',\n",
       " 'were',\n",
       " 'who',\n",
       " 'other',\n",
       " 'had',\n",
       " 'but',\n",
       " 'years',\n",
       " 'all',\n",
       " 'km',\n",
       " 'their',\n",
       " 'out',\n",
       " 'new',\n",
       " 'city',\n",
       " 'under',\n",
       " 'first',\n",
       " 'more',\n",
       " 'its',\n",
       " 'american',\n",
       " 'county',\n",
       " 'they',\n",
       " 'mi',\n",
       " 'living',\n",
       " 'income',\n",
       " 'some',\n",
       " 'median',\n",
       " 'been',\n",
       " 'after',\n",
       " 'total',\n",
       " 'most',\n",
       " 'can',\n",
       " 'united',\n",
       " 'no',\n",
       " 'when',\n",
       " 'many',\n",
       " 'states',\n",
       " 'people',\n",
       " 'over',\n",
       " 'time',\n",
       " 'census',\n",
       " 'into',\n",
       " 'used',\n",
       " 'such',\n",
       " 'may',\n",
       " 'i',\n",
       " 'up',\n",
       " 'town',\n",
       " 'average',\n",
       " 'see',\n",
       " 'older',\n",
       " 'area',\n",
       " 'families',\n",
       " 'only',\n",
       " 'family',\n",
       " 'those',\n",
       " 'males',\n",
       " 'females',\n",
       " 'households',\n",
       " 'line',\n",
       " 'made',\n",
       " 'world',\n",
       " 'them',\n",
       " 'these',\n",
       " 'her',\n",
       " 'than',\n",
       " 'would',\n",
       " 'any',\n",
       " 'every',\n",
       " 'during',\n",
       " 'war',\n",
       " 'external',\n",
       " 'known',\n",
       " 'about',\n",
       " 'links',\n",
       " 'north',\n",
       " 'below',\n",
       " 'size',\n",
       " 'water',\n",
       " 'between',\n",
       " 'however',\n",
       " 'located',\n",
       " 'state',\n",
       " 'th',\n",
       " 'd',\n",
       " 'name',\n",
       " 'she',\n",
       " 'if',\n",
       " 'where',\n",
       " 'density',\n",
       " 'history',\n",
       " 'called',\n",
       " 'm',\n",
       " 'races',\n",
       " 'household',\n",
       " 'then',\n",
       " 'poverty',\n",
       " 'part',\n",
       " 'him',\n",
       " 'use',\n",
       " 'so',\n",
       " 'will',\n",
       " 'being',\n",
       " 'later',\n",
       " 'west',\n",
       " 'well',\n",
       " 'while',\n",
       " 'b',\n",
       " 'white',\n",
       " 'u',\n",
       " 'often',\n",
       " 'non',\n",
       " 'university',\n",
       " 'both',\n",
       " 'de',\n",
       " 'became',\n",
       " 'system',\n",
       " 'land',\n",
       " 'south',\n",
       " 'number',\n",
       " 'c',\n",
       " 'year',\n",
       " 'through',\n",
       " 'government',\n",
       " 'e',\n",
       " 't',\n",
       " 'children',\n",
       " 'john',\n",
       " 'township',\n",
       " 'present',\n",
       " 'according',\n",
       " 'national',\n",
       " 'like',\n",
       " 'since',\n",
       " 'early',\n",
       " 'century',\n",
       " 'british',\n",
       " 'high',\n",
       " 'because',\n",
       " 'english',\n",
       " 'school',\n",
       " 'life',\n",
       " 'several',\n",
       " 'music',\n",
       " 'general',\n",
       " 'n',\n",
       " 'same',\n",
       " 'including',\n",
       " 'before',\n",
       " 'together',\n",
       " 'series',\n",
       " 'now',\n",
       " 'per',\n",
       " 'x',\n",
       " 'king',\n",
       " 'each',\n",
       " 'work',\n",
       " 'very',\n",
       " 'film',\n",
       " 'you',\n",
       " 'married',\n",
       " 'even',\n",
       " 'second',\n",
       " 'although',\n",
       " 'day',\n",
       " 'female',\n",
       " 'village',\n",
       " 'african',\n",
       " 'against',\n",
       " 'born',\n",
       " 'much',\n",
       " 'native',\n",
       " 'york',\n",
       " 'list',\n",
       " 'french',\n",
       " 'until',\n",
       " 'race',\n",
       " 'long',\n",
       " 'could',\n",
       " 'group',\n",
       " 'public',\n",
       " 'large',\n",
       " 'what',\n",
       " 'units',\n",
       " 'great',\n",
       " 'form',\n",
       " 'based',\n",
       " 'another',\n",
       " 'party',\n",
       " 'pacific',\n",
       " 'example',\n",
       " 'g',\n",
       " 'game',\n",
       " 'st',\n",
       " 'still',\n",
       " 'individuals',\n",
       " 'power',\n",
       " 'end',\n",
       " 'major',\n",
       " 'alone',\n",
       " 'spread',\n",
       " 'do',\n",
       " 'f',\n",
       " 'ii',\n",
       " 'geography',\n",
       " 'river',\n",
       " 'husband',\n",
       " 'r',\n",
       " 'someone',\n",
       " 'us',\n",
       " 'best',\n",
       " 'asian',\n",
       " 'around',\n",
       " 'place',\n",
       " 'own',\n",
       " 'small',\n",
       " 'east',\n",
       " 'law',\n",
       " 'found',\n",
       " 'set',\n",
       " 'housing',\n",
       " 'german',\n",
       " 'bureau',\n",
       " 'president',\n",
       " 'death',\n",
       " 'language',\n",
       " 'international',\n",
       " 'different',\n",
       " 'black',\n",
       " 'left',\n",
       " 'order',\n",
       " 'racial',\n",
       " 'following',\n",
       " 'old',\n",
       " 'book',\n",
       " 'demographics',\n",
       " 'main',\n",
       " 'term',\n",
       " 'we',\n",
       " 'versus',\n",
       " 'home',\n",
       " 'house',\n",
       " 'way',\n",
       " 'p',\n",
       " 'man',\n",
       " 'did',\n",
       " 'capita',\n",
       " 'couples',\n",
       " 'usually',\n",
       " 'common',\n",
       " 'hispanic',\n",
       " 'makeup',\n",
       " 'named',\n",
       " 'country',\n",
       " 'residing',\n",
       " 'show',\n",
       " 'political',\n",
       " 'include',\n",
       " 'image',\n",
       " 'latino',\n",
       " 'modern',\n",
       " 'though',\n",
       " 'householder',\n",
       " 'within',\n",
       " 'islander',\n",
       " 'cdp',\n",
       " 'church',\n",
       " 'point',\n",
       " 'l',\n",
       " 'back',\n",
       " 'due',\n",
       " 'popular',\n",
       " 'members',\n",
       " 'last',\n",
       " 'air',\n",
       " 'official',\n",
       " 'january',\n",
       " 'right',\n",
       " 'march',\n",
       " 'military',\n",
       " 'times',\n",
       " 'among',\n",
       " 'using',\n",
       " 'original',\n",
       " 'company',\n",
       " 'cities',\n",
       " 'make',\n",
       " 'began',\n",
       " 'island',\n",
       " 'v',\n",
       " 'considered',\n",
       " 'given',\n",
       " 'london',\n",
       " 'band',\n",
       " 'battle',\n",
       " 'o',\n",
       " 'just',\n",
       " 'article',\n",
       " 'off',\n",
       " 'without',\n",
       " 'version',\n",
       " 'album',\n",
       " 'down',\n",
       " 'information',\n",
       " 'h',\n",
       " 'bc',\n",
       " 'released',\n",
       " 'site',\n",
       " 'england',\n",
       " 'college',\n",
       " 'location',\n",
       " 'j',\n",
       " 'october',\n",
       " 'france',\n",
       " 'become',\n",
       " 'september',\n",
       " 'june',\n",
       " 'army',\n",
       " 'important',\n",
       " 'december',\n",
       " 'sometimes',\n",
       " 'july',\n",
       " 'should',\n",
       " 'few',\n",
       " 'local',\n",
       " 'w',\n",
       " 'former',\n",
       " 'human',\n",
       " 'k',\n",
       " 'william',\n",
       " 'service',\n",
       " 'along',\n",
       " 'son',\n",
       " 'near',\n",
       " 'free',\n",
       " 'april',\n",
       " 'center',\n",
       " 'november',\n",
       " 'various',\n",
       " 'august',\n",
       " 'western',\n",
       " 'died',\n",
       " 'single',\n",
       " 'led',\n",
       " 'february',\n",
       " 'roman',\n",
       " 'period',\n",
       " 'james',\n",
       " 'central',\n",
       " 'god',\n",
       " 'control',\n",
       " 'others',\n",
       " 'george',\n",
       " 'similar',\n",
       " 'case',\n",
       " 'america',\n",
       " 'does',\n",
       " 'took',\n",
       " 'theory',\n",
       " 'late',\n",
       " 'games',\n",
       " 'said',\n",
       " 'less',\n",
       " 'television',\n",
       " 'force',\n",
       " 'men',\n",
       " 'space',\n",
       " 'park',\n",
       " 'thus',\n",
       " 'published',\n",
       " 'union',\n",
       " 'district',\n",
       " 'created',\n",
       " 'short',\n",
       " 'isbn',\n",
       " 'team',\n",
       " 'built',\n",
       " 'word',\n",
       " 'science',\n",
       " 'little',\n",
       " 'written',\n",
       " 'works',\n",
       " 'development',\n",
       " 'never',\n",
       " 'support',\n",
       " 'player',\n",
       " 'character',\n",
       " 'computer',\n",
       " 'must',\n",
       " 'court',\n",
       " 'famous',\n",
       " 'how',\n",
       " 'systems',\n",
       " 'take',\n",
       " 'held',\n",
       " 'community',\n",
       " 'father',\n",
       " 'side',\n",
       " 'again',\n",
       " 'third',\n",
       " 'european',\n",
       " 'generally',\n",
       " 'groups',\n",
       " 'births',\n",
       " 'canada',\n",
       " 'song',\n",
       " 'red',\n",
       " 'good',\n",
       " 'kingdom',\n",
       " 'himself',\n",
       " 'rather',\n",
       " 'story',\n",
       " 'rock',\n",
       " 'art',\n",
       " 'la',\n",
       " 'star',\n",
       " 'either',\n",
       " 'came',\n",
       " 'having',\n",
       " 'social',\n",
       " 'lake',\n",
       " 'minister',\n",
       " 'field',\n",
       " 'once',\n",
       " 'member',\n",
       " 'body',\n",
       " 'today',\n",
       " 'my',\n",
       " 'seen',\n",
       " 'books',\n",
       " 'references',\n",
       " 'northern',\n",
       " 'act',\n",
       " 'play',\n",
       " 'europe',\n",
       " 'germany',\n",
       " 'california',\n",
       " 'covered',\n",
       " 'council',\n",
       " 'played',\n",
       " 'page',\n",
       " 'earth',\n",
       " 'current',\n",
       " 'charles',\n",
       " 'uk',\n",
       " 'forces',\n",
       " 'role',\n",
       " 'society',\n",
       " 'website',\n",
       " 'open',\n",
       " 'japanese',\n",
       " 'further',\n",
       " 'light',\n",
       " 'sea',\n",
       " 'title',\n",
       " 'areas',\n",
       " 'live',\n",
       " 'region',\n",
       " 'fact',\n",
       " 'countries',\n",
       " 'class',\n",
       " 'radio',\n",
       " 'upon',\n",
       " 'especially',\n",
       " 'next',\n",
       " 'million',\n",
       " 'result',\n",
       " 'china',\n",
       " 'none',\n",
       " 'standard',\n",
       " 'type',\n",
       " 'level',\n",
       " 'top',\n",
       " 'won',\n",
       " 'royal',\n",
       " 'full',\n",
       " 'source',\n",
       " 'deaths',\n",
       " 'means',\n",
       " 'special',\n",
       " 'days',\n",
       " 'young',\n",
       " 'towns',\n",
       " 'largest',\n",
       " 'production',\n",
       " 'robert',\n",
       " 'head',\n",
       " 'texas',\n",
       " 'style',\n",
       " 'republic',\n",
       " 'league',\n",
       " 'chinese',\n",
       " 'developed',\n",
       " 'possible',\n",
       " 'process',\n",
       " 'above',\n",
       " 'almost',\n",
       " 'produced',\n",
       " 'events',\n",
       " 'established',\n",
       " 'making',\n",
       " 'person',\n",
       " 'office',\n",
       " 'data',\n",
       " 'itself',\n",
       " 'real',\n",
       " 'middle',\n",
       " 'love',\n",
       " 'included',\n",
       " 'greek',\n",
       " 'david',\n",
       " 'com',\n",
       " 'women',\n",
       " 'empire',\n",
       " 'season',\n",
       " 're',\n",
       " 'christian',\n",
       " 'available',\n",
       " 'press',\n",
       " 'taken',\n",
       " 'movement',\n",
       " 'originally',\n",
       " 'culture',\n",
       " 'movie',\n",
       " 'me',\n",
       " 'henry',\n",
       " 'washington',\n",
       " 'san',\n",
       " 'research',\n",
       " 'far',\n",
       " 'southern',\n",
       " 'design',\n",
       " 'paul',\n",
       " 'al',\n",
       " 'final',\n",
       " 'lost',\n",
       " 'record',\n",
       " 'half',\n",
       " 'languages',\n",
       " 'program',\n",
       " 'australia',\n",
       " 'position',\n",
       " 'hand',\n",
       " 'airport',\n",
       " 'actor',\n",
       " 'instead',\n",
       " 'civil',\n",
       " 'low',\n",
       " 'education',\n",
       " 'japan',\n",
       " 'related',\n",
       " 'here',\n",
       " 'capital',\n",
       " 'formed',\n",
       " 'natural',\n",
       " 'films',\n",
       " 'places',\n",
       " 'species',\n",
       " 'eastern',\n",
       " 'run',\n",
       " 'received',\n",
       " 'building',\n",
       " 'characters',\n",
       " 'go',\n",
       " 'station',\n",
       " 'parts',\n",
       " 'view',\n",
       " 'project',\n",
       " 'economic',\n",
       " 'went',\n",
       " 'change',\n",
       " 'rights',\n",
       " 'user',\n",
       " 'code',\n",
       " 'students',\n",
       " 'spanish',\n",
       " 'map',\n",
       " 'certain',\n",
       " 'street',\n",
       " 'founded',\n",
       " 'thomas',\n",
       " 'ancient',\n",
       " 'lord',\n",
       " 'terms',\n",
       " 'range',\n",
       " 'eventually',\n",
       " 'business',\n",
       " 'least',\n",
       " 'road',\n",
       " 'news',\n",
       " 'pennsylvania',\n",
       " 'continued',\n",
       " 'canadian',\n",
       " 'post',\n",
       " 'http',\n",
       " 'whose',\n",
       " 'aircraft',\n",
       " 'soviet',\n",
       " 'prime',\n",
       " 'words',\n",
       " 'records',\n",
       " 'always',\n",
       " 'energy',\n",
       " 'model',\n",
       " 'emperor',\n",
       " 'get',\n",
       " 'too',\n",
       " 'fire',\n",
       " 'career',\n",
       " 'network',\n",
       " 'your',\n",
       " 'addition',\n",
       " 'y',\n",
       " 'richard',\n",
       " 'religious',\n",
       " 'green',\n",
       " 'traditional',\n",
       " 'video',\n",
       " 'wrote',\n",
       " 'tv',\n",
       " 'saint',\n",
       " 'sound',\n",
       " 'uploaded',\n",
       " 'come',\n",
       " 'numbers',\n",
       " 'particular',\n",
       " 'software',\n",
       " 'attack',\n",
       " 'release',\n",
       " 'historical',\n",
       " 'served',\n",
       " 'trade',\n",
       " 'note',\n",
       " 'uses',\n",
       " 'india',\n",
       " 'mother',\n",
       " 'market',\n",
       " 'throughout',\n",
       " 'action',\n",
       " 'names',\n",
       " 'moved',\n",
       " 'queen',\n",
       " 'lower',\n",
       " 'might',\n",
       " 'night',\n",
       " 'away',\n",
       " 'meaning',\n",
       " 'forms',\n",
       " 'soon',\n",
       " 'schools',\n",
       " 'hall',\n",
       " 'thought',\n",
       " 'study',\n",
       " 'www',\n",
       " 'self',\n",
       " 'football',\n",
       " 'author',\n",
       " 'foreign',\n",
       " 'text',\n",
       " 'nature',\n",
       " 'return',\n",
       " 'recent',\n",
       " 'wife',\n",
       " 'independent',\n",
       " 'anti',\n",
       " 'leader',\n",
       " 'prince',\n",
       " 'technology',\n",
       " 'particularly',\n",
       " 'despite',\n",
       " 'started',\n",
       " 'players',\n",
       " 'able',\n",
       " 'russian',\n",
       " 'described',\n",
       " 'islands',\n",
       " 'jewish',\n",
       " 'services',\n",
       " 'lead',\n",
       " 'ireland',\n",
       " 'iii',\n",
       " 'our',\n",
       " 'election',\n",
       " 'future',\n",
       " 'strong',\n",
       " 'effect',\n",
       " 'base',\n",
       " 'commonly',\n",
       " 'includes',\n",
       " 'blue',\n",
       " 'elected',\n",
       " 'killed',\n",
       " 'italian',\n",
       " 'federal',\n",
       " 'themselves',\n",
       " 'designated',\n",
       " 'co',\n",
       " 'big',\n",
       " 'novel',\n",
       " 'peter',\n",
       " 'borough',\n",
       " 'michael',\n",
       " 'true',\n",
       " 'food',\n",
       " 'actually',\n",
       " 'wikipedia',\n",
       " 'ever',\n",
       " 'appeared',\n",
       " 'outside',\n",
       " 'function',\n",
       " 'award',\n",
       " 'club',\n",
       " 'catholic',\n",
       " 'currently',\n",
       " 'followed',\n",
       " 'referred',\n",
       " 'close',\n",
       " 'miles',\n",
       " 'minnesota',\n",
       " 'museum',\n",
       " 'rule',\n",
       " 'division',\n",
       " 'association',\n",
       " 'higher',\n",
       " 'across',\n",
       " 'put',\n",
       " 'paris',\n",
       " 'industry',\n",
       " 'chief',\n",
       " 'cases',\n",
       " 'value',\n",
       " 'complete',\n",
       " 'link',\n",
       " 'beginning',\n",
       " 'features',\n",
       " 'success',\n",
       " 'writer',\n",
       " 'latin',\n",
       " 'indian',\n",
       " 'returned',\n",
       " 'province',\n",
       " 'working',\n",
       " 'irish',\n",
       " 'find',\n",
       " 'louis',\n",
       " 'material',\n",
       " 'help',\n",
       " 'introduced',\n",
       " 'musical',\n",
       " 'usa',\n",
       " 'influence',\n",
       " 'therefore',\n",
       " 'subject',\n",
       " 'front',\n",
       " 'significant',\n",
       " 'africa',\n",
       " 'designed',\n",
       " 'leading',\n",
       " 'ship',\n",
       " 'coast',\n",
       " 'speed',\n",
       " 'seat',\n",
       " 'don',\n",
       " 'valley',\n",
       " 'whether',\n",
       " 'personal',\n",
       " 'cross',\n",
       " 'media',\n",
       " 'interest',\n",
       " 'brought',\n",
       " 'structure',\n",
       " 'cause',\n",
       " 'britain',\n",
       " 'points',\n",
       " 'talk',\n",
       " 'typically',\n",
       " 'practice',\n",
       " 'governor',\n",
       " 'problems',\n",
       " 'episode',\n",
       " 'associated',\n",
       " 'problem',\n",
       " 'rate',\n",
       " 'fiction',\n",
       " 'singer',\n",
       " 'better',\n",
       " 'daughter',\n",
       " 'individual',\n",
       " 'board',\n",
       " 'gave',\n",
       " 'songs',\n",
       " 'lines',\n",
       " 'mass',\n",
       " 'nations',\n",
       " 'private',\n",
       " 'virginia',\n",
       " 'michigan',\n",
       " 'sir',\n",
       " 'money',\n",
       " 'date',\n",
       " 'brother',\n",
       " 'successful',\n",
       " 'legal',\n",
       " 'shows',\n",
       " 'police',\n",
       " 'policy',\n",
       " 'writing',\n",
       " 'grand',\n",
       " 'yet',\n",
       " 'department',\n",
       " 'parliament',\n",
       " 'literature',\n",
       " 'remained',\n",
       " 'ground',\n",
       " 'performance',\n",
       " 'simply',\n",
       " 'centre',\n",
       " 'actress',\n",
       " 'navy',\n",
       " 'months',\n",
       " 'probably',\n",
       " 'larger',\n",
       " 'widely',\n",
       " 'italy',\n",
       " 'duke',\n",
       " 'australian',\n",
       " 'car',\n",
       " 'library',\n",
       " 'reference',\n",
       " 'section',\n",
       " 'ohio',\n",
       " 'earlier',\n",
       " 'health',\n",
       " 'give',\n",
       " 'types',\n",
       " 'hill',\n",
       " 'need',\n",
       " 'director',\n",
       " 'commercial',\n",
       " 'elements',\n",
       " 'peace',\n",
       " 'evidence',\n",
       " 'key',\n",
       " 'required',\n",
       " 'sun',\n",
       " 'organization',\n",
       " 'counties',\n",
       " 'dr',\n",
       " 'bridge',\n",
       " 'allowed',\n",
       " 'limited',\n",
       " 'bay',\n",
       " 'sent',\n",
       " 'playing',\n",
       " 'past',\n",
       " 'bill',\n",
       " 'security',\n",
       " 'remains',\n",
       " 'economy',\n",
       " 'changes',\n",
       " 'wide',\n",
       " 'provide',\n",
       " 'saw',\n",
       " 'move',\n",
       " 'finally',\n",
       " 'gold',\n",
       " 'longer',\n",
       " 'physical',\n",
       " 'child',\n",
       " 'surface',\n",
       " 'square',\n",
       " 'spain',\n",
       " 'construction',\n",
       " 'summer',\n",
       " 'stage',\n",
       " 'mostly',\n",
       " 'hit',\n",
       " 'web',\n",
       " 'complex',\n",
       " 'greater',\n",
       " 'majority',\n",
       " 'already',\n",
       " 'notable',\n",
       " 'whom',\n",
       " 'enough',\n",
       " 'domain',\n",
       " 'recorded',\n",
       " 'mid',\n",
       " 'z',\n",
       " 'done',\n",
       " 'internet',\n",
       " 'companies',\n",
       " 'studies',\n",
       " 'refer',\n",
       " 'makes',\n",
       " 'believed',\n",
       " 'mark',\n",
       " 'woman',\n",
       " 'method',\n",
       " 'course',\n",
       " 'examples',\n",
       " 'male',\n",
       " 'deleted',\n",
       " 'contains',\n",
       " 'caused',\n",
       " 'primary',\n",
       " 'changed',\n",
       " 'things',\n",
       " 'magazine',\n",
       " 'operation',\n",
       " 'specific',\n",
       " 'replaced',\n",
       " 'mary',\n",
       " 'nation',\n",
       " 'turn',\n",
       " 'edition',\n",
       " 'russia',\n",
       " 'territory',\n",
       " 'edward',\n",
       " 'added',\n",
       " 'whole',\n",
       " 'involved',\n",
       " 'smith',\n",
       " 'idea',\n",
       " 'ten',\n",
       " 'cover',\n",
       " 'etc',\n",
       " 'dutch',\n",
       " 'perhaps',\n",
       " 'le',\n",
       " 'jersey',\n",
       " 'say',\n",
       " 'appears',\n",
       " 'dead',\n",
       " 'sense',\n",
       " 'separate',\n",
       " 'blood',\n",
       " 'carolina',\n",
       " 'length',\n",
       " 'philosophy',\n",
       " 'basic',\n",
       " 'entire',\n",
       " 'attempt',\n",
       " 'cannot',\n",
       " 'joseph',\n",
       " 'online',\n",
       " 'mountain',\n",
       " 'bank',\n",
       " 'oil',\n",
       " 'provided',\n",
       " 'rest',\n",
       " 'pope',\n",
       " 'israel',\n",
       " 'effects',\n",
       " 'sources',\n",
       " 'towards',\n",
       " 'sold',\n",
       " 'stories',\n",
       " 'independence',\n",
       " 'route',\n",
       " ...]"
      ]
     },
     "execution_count": 12,
     "metadata": {},
     "output_type": "execute_result"
    }
   ],
   "source": [
    "model.words"
   ]
  },
  {
   "cell_type": "code",
   "execution_count": 8,
   "metadata": {},
   "outputs": [
    {
     "data": {
      "text/plain": [
       "array([ 3.92778814e-01,  1.78142741e-01, -5.53990677e-02, -2.59772032e-01,\n",
       "       -5.55951223e-02, -4.01437223e-01, -2.52026796e-01,  4.47904319e-01,\n",
       "        4.40765582e-02, -4.95011389e-01,  2.08504722e-01,  8.93887639e-01,\n",
       "       -4.96283509e-02,  5.25873266e-02, -2.68926308e-03,  2.32112259e-01,\n",
       "       -1.38051003e-01,  1.34423628e-01, -2.04713549e-02, -1.57641545e-01,\n",
       "       -8.50266144e-02, -3.38805094e-02,  3.04388344e-01, -2.85896778e-01,\n",
       "       -2.44516939e-01,  1.47336662e-01, -1.00291176e-02,  2.04410776e-01,\n",
       "        4.91752550e-02,  1.89458892e-01,  2.38970220e-01, -9.44593549e-02,\n",
       "        8.10603574e-02,  2.53180414e-01, -1.90315202e-01,  1.11242071e-01,\n",
       "       -3.43806565e-01, -2.09273443e-01, -4.72900234e-02, -2.22520512e-02,\n",
       "       -1.67500675e-01, -5.79694882e-02,  1.69745743e-01,  7.24475682e-02,\n",
       "        2.19709754e-01, -5.49645424e-01, -2.33635068e-01,  8.57048575e-03,\n",
       "       -7.43346810e-02,  8.43011886e-02,  2.43907064e-01,  4.36182559e-01,\n",
       "        5.33064008e-02,  5.07914163e-02,  2.28143468e-01,  2.08914906e-01,\n",
       "        6.57176279e-05, -2.61769891e-02,  3.35334897e-01,  6.97162300e-02,\n",
       "       -5.80906570e-01,  6.00305319e-01, -3.33665639e-01,  5.77950142e-02,\n",
       "        3.06302428e-01, -5.96808903e-02, -5.81270196e-02, -3.28659892e-01,\n",
       "       -6.73170239e-02,  1.25601575e-01,  4.45081182e-02, -7.10198358e-02,\n",
       "       -2.14613780e-01,  1.95882589e-01, -3.04331362e-01,  2.03406438e-01,\n",
       "        1.41932204e-01,  3.02533418e-01, -1.29135326e-01, -4.35510933e-01,\n",
       "       -1.66883335e-01, -2.71787524e-01, -8.76563489e-02, -6.82879165e-02,\n",
       "       -2.00803533e-01,  1.92940757e-02,  1.17316626e-01, -4.14910644e-01,\n",
       "        5.10338582e-02, -2.61173517e-01,  3.16573858e-01,  5.63684367e-02,\n",
       "       -6.76570237e-02,  3.00010830e-01, -6.24537878e-02, -6.25800073e-01,\n",
       "        2.23197684e-01,  2.65637219e-01,  5.65871894e-02, -2.68137157e-01],\n",
       "      dtype=float32)"
      ]
     },
     "execution_count": 8,
     "metadata": {},
     "output_type": "execute_result"
    }
   ],
   "source": [
    "model.get_word_vector(\"enviroment\")"
   ]
  },
  {
   "cell_type": "code",
   "execution_count": 9,
   "metadata": {},
   "outputs": [
    {
     "data": {
      "text/plain": [
       "[(0.891994297504425, 'infoseek'),\n",
       " (0.8615556359291077, 'infosource'),\n",
       " (0.8513569235801697, 'infosec'),\n",
       " (0.8259007334709167, 'infoshop'),\n",
       " (0.8152666091918945, 'infotech'),\n",
       " (0.8084748983383179, 'infotrac'),\n",
       " (0.7976670861244202, 'homepages'),\n",
       " (0.7805988192558289, 'infosys'),\n",
       " (0.7686091661453247, 'infocus'),\n",
       " (0.7514805793762207, 'listinfo')]"
      ]
     },
     "execution_count": 9,
     "metadata": {},
     "output_type": "execute_result"
    }
   ],
   "source": [
    "model.get_nearest_neighbors('infos')"
   ]
  },
  {
   "cell_type": "code",
   "execution_count": null,
   "metadata": {},
   "outputs": [],
   "source": []
  },
  {
   "cell_type": "code",
   "execution_count": 10,
   "metadata": {},
   "outputs": [
    {
     "data": {
      "text/plain": [
       "[(0.7664057016372681, 'mehrabad'),\n",
       " (0.7639018297195435, 'dhaka'),\n",
       " (0.7592024207115173, 'karachi'),\n",
       " (0.7227249145507812, 'mehra'),\n",
       " (0.7145023345947266, 'bangladeshi'),\n",
       " (0.714063823223114, 'lahore'),\n",
       " (0.7072539329528809, 'islamabad'),\n",
       " (0.697488009929657, 'bangladeshis'),\n",
       " (0.6933348178863525, 'mehran'),\n",
       " (0.6906768679618835, 'delhi')]"
      ]
     },
     "execution_count": 10,
     "metadata": {},
     "output_type": "execute_result"
    }
   ],
   "source": [
    " model.get_analogies(\"berlin\", \"germany\", \"bangladesh\")\n",
    "    "
   ]
  },
  {
   "cell_type": "code",
   "execution_count": 8,
   "metadata": {},
   "outputs": [],
   "source": [
    "model_cbow = fasttext.train_unsupervised('fil9', \"cbow\")"
   ]
  },
  {
   "cell_type": "code",
   "execution_count": 10,
   "metadata": {},
   "outputs": [
    {
     "data": {
      "text/plain": [
       "[(0.7039560675621033, 'bangladeshis'),\n",
       " (0.6907241940498352, 'bangladeshi'),\n",
       " (0.6715779900550842, 'karachay'),\n",
       " (0.6647828221321106, 'karachays'),\n",
       " (0.6452161073684692, 'bangla'),\n",
       " (0.623950183391571, 'lahore'),\n",
       " (0.6181032657623291, 'madrassah'),\n",
       " (0.6172691583633423, 'jamshedpur'),\n",
       " (0.6132177114486694, 'chennai'),\n",
       " (0.613171398639679, 'karabagh')]"
      ]
     },
     "execution_count": 10,
     "metadata": {},
     "output_type": "execute_result"
    }
   ],
   "source": [
    "model_cbow.get_analogies(\"berlin\", \"germany\", \"bangladesh\")"
   ]
  },
  {
   "cell_type": "code",
   "execution_count": 2,
   "metadata": {},
   "outputs": [
    {
     "ename": "NameError",
     "evalue": "name 'fasttext' is not defined",
     "output_type": "error",
     "traceback": [
      "\u001b[0;31m---------------------------------------------------------------------------\u001b[0m",
      "\u001b[0;31mNameError\u001b[0m                                 Traceback (most recent call last)",
      "\u001b[0;32m<ipython-input-2-4fda03b55eca>\u001b[0m in \u001b[0;36m<module>\u001b[0;34m\u001b[0m\n\u001b[0;32m----> 1\u001b[0;31m \u001b[0mmodel_supervise\u001b[0m \u001b[0;34m=\u001b[0m \u001b[0mfasttext\u001b[0m\u001b[0;34m.\u001b[0m\u001b[0mtrain_supervised\u001b[0m\u001b[0;34m(\u001b[0m\u001b[0minput\u001b[0m\u001b[0;34m=\u001b[0m\u001b[0;34m\"moe_misspellings_train.tsv\"\u001b[0m\u001b[0;34m)\u001b[0m\u001b[0;34m\u001b[0m\u001b[0;34m\u001b[0m\u001b[0m\n\u001b[0m",
      "\u001b[0;31mNameError\u001b[0m: name 'fasttext' is not defined"
     ]
    }
   ],
   "source": [
    "model_supervise = fasttext.train_supervised(input=\"moe_misspellings_train.tsv\")"
   ]
  },
  {
   "cell_type": "code",
   "execution_count": 5,
   "metadata": {},
   "outputs": [
    {
     "name": "stdout",
     "output_type": "stream",
     "text": [
      "--2020-06-08 01:06:34--  https://dl.fbaipublicfiles.com/fasttext/data/cooking.stackexchange.tar.gz\n",
      "Resolving dl.fbaipublicfiles.com (dl.fbaipublicfiles.com)... 104.22.74.142, 172.67.9.4, 104.22.75.142, ...\n",
      "Connecting to dl.fbaipublicfiles.com (dl.fbaipublicfiles.com)|104.22.74.142|:443... connected.\n",
      "HTTP request sent, awaiting response... 200 OK\n",
      "Length: 457609 (447K) [application/x-tar]\n",
      "Saving to: ‘cooking.stackexchange.tar.gz’\n",
      "\n",
      "cooking.stackexchan 100%[===================>] 446.88K   754KB/s    in 0.6s    \n",
      "\n",
      "2020-06-08 01:06:35 (754 KB/s) - ‘cooking.stackexchange.tar.gz’ saved [457609/457609]\n",
      "\n",
      "cooking.stackexchange.id\n",
      "cooking.stackexchange.txt\n",
      "readme.txt\n"
     ]
    }
   ],
   "source": [
    "! wget https://dl.fbaipublicfiles.com/fasttext/data/cooking.stackexchange.tar.gz && tar xvzf cooking.stackexchange.tar.gz\n",
    "\n"
   ]
  },
  {
   "cell_type": "code",
   "execution_count": 7,
   "metadata": {},
   "outputs": [
    {
     "name": "stdout",
     "output_type": "stream",
     "text": [
      "__label__sauce __label__cheese How much does potato starch affect a cheese sauce recipe?\r\n",
      "__label__food-safety __label__acidity Dangerous pathogens capable of growing in acidic environments\r\n",
      "__label__cast-iron __label__stove How do I cover up the white spots on my cast iron stove?\r\n",
      "__label__restaurant Michelin Three Star Restaurant; but if the chef is not there\r\n",
      "__label__knife-skills __label__dicing Without knife skills, how can I quickly and accurately dice vegetables?\r\n",
      "__label__storage-method __label__equipment __label__bread What's the purpose of a bread box?\r\n",
      "__label__baking __label__food-safety __label__substitutions __label__peanuts how to seperate peanut oil from roasted peanuts at home?\r\n",
      "__label__chocolate American equivalent for British chocolate terms\r\n",
      "__label__baking __label__oven __label__convection Fan bake vs bake\r\n",
      "__label__sauce __label__storage-lifetime __label__acidity __label__mayonnaise Regulation and balancing of readymade packed mayonnaise and other sauces\r\n"
     ]
    }
   ],
   "source": [
    "! head cooking.stackexchange.txt\n"
   ]
  },
  {
   "cell_type": "code",
   "execution_count": 8,
   "metadata": {},
   "outputs": [
    {
     "name": "stdout",
     "output_type": "stream",
     "text": [
      "  15404  169582 1401900 cooking.stackexchange.txt\r\n"
     ]
    }
   ],
   "source": [
    "! wc cooking.stackexchange.txt"
   ]
  },
  {
   "cell_type": "code",
   "execution_count": 9,
   "metadata": {},
   "outputs": [],
   "source": [
    "! head -n 12404 cooking.stackexchange.txt > cooking.train"
   ]
  },
  {
   "cell_type": "code",
   "execution_count": 10,
   "metadata": {},
   "outputs": [],
   "source": [
    "! tail -n 3000 cooking.stackexchange.txt > cooking.valid"
   ]
  },
  {
   "cell_type": "code",
   "execution_count": 13,
   "metadata": {},
   "outputs": [],
   "source": [
    "model_stack = fasttext.train_supervised(input=\"cooking.train\")"
   ]
  },
  {
   "cell_type": "code",
   "execution_count": 15,
   "metadata": {},
   "outputs": [],
   "source": [
    " model_stack.save_model(\"model_cooking.bin\")"
   ]
  },
  {
   "cell_type": "code",
   "execution_count": 16,
   "metadata": {},
   "outputs": [
    {
     "data": {
      "text/plain": [
       "(('__label__baking',), array([0.069777]))"
      ]
     },
     "execution_count": 16,
     "metadata": {},
     "output_type": "execute_result"
    }
   ],
   "source": [
    "model_stack.predict(\"Which baking dish is best to bake a banana bread ?\")"
   ]
  },
  {
   "cell_type": "code",
   "execution_count": 17,
   "metadata": {},
   "outputs": [
    {
     "data": {
      "text/plain": [
       "(3000, 0.12633333333333333, 0.05463456825717169)"
      ]
     },
     "execution_count": 17,
     "metadata": {},
     "output_type": "execute_result"
    }
   ],
   "source": [
    "model_stack.test(\"cooking.valid\")"
   ]
  },
  {
   "cell_type": "code",
   "execution_count": 2,
   "metadata": {},
   "outputs": [
    {
     "name": "stdout",
     "output_type": "stream",
     "text": [
      " 20068964  40137589 348179185 moe_misspellings_train.tsv\r\n"
     ]
    }
   ],
   "source": [
    "! wc moe_misspellings_train.tsv"
   ]
  },
  {
   "cell_type": "code",
   "execution_count": 1,
   "metadata": {},
   "outputs": [],
   "source": [
    "#! head -2000 moe_misspellings_train.tsv"
   ]
  },
  {
   "cell_type": "code",
   "execution_count": 3,
   "metadata": {},
   "outputs": [],
   "source": [
    "import pandas as pd"
   ]
  },
  {
   "cell_type": "code",
   "execution_count": 2,
   "metadata": {},
   "outputs": [],
   "source": [
    "MOE_data = pd.read_csv('moe_misspellings_train.tsv', sep='\\t')\n"
   ]
  },
  {
   "cell_type": "code",
   "execution_count": 4,
   "metadata": {},
   "outputs": [
    {
     "data": {
      "text/html": [
       "<div>\n",
       "<style scoped>\n",
       "    .dataframe tbody tr th:only-of-type {\n",
       "        vertical-align: middle;\n",
       "    }\n",
       "\n",
       "    .dataframe tbody tr th {\n",
       "        vertical-align: top;\n",
       "    }\n",
       "\n",
       "    .dataframe thead th {\n",
       "        text-align: right;\n",
       "    }\n",
       "</style>\n",
       "<table border=\"1\" class=\"dataframe\">\n",
       "  <thead>\n",
       "    <tr style=\"text-align: right;\">\n",
       "      <th></th>\n",
       "      <th>jon</th>\n",
       "      <th>jun</th>\n",
       "    </tr>\n",
       "  </thead>\n",
       "  <tbody>\n",
       "    <tr>\n",
       "      <th>0</th>\n",
       "      <td>an</td>\n",
       "      <td>__label__jun</td>\n",
       "    </tr>\n",
       "    <tr>\n",
       "      <th>1</th>\n",
       "      <td>ju</td>\n",
       "      <td>__label__jun</td>\n",
       "    </tr>\n",
       "    <tr>\n",
       "      <th>2</th>\n",
       "      <td>jin</td>\n",
       "      <td>__label__jun</td>\n",
       "    </tr>\n",
       "    <tr>\n",
       "      <th>3</th>\n",
       "      <td>nun</td>\n",
       "      <td>__label__jun</td>\n",
       "    </tr>\n",
       "    <tr>\n",
       "      <th>4</th>\n",
       "      <td>un</td>\n",
       "      <td>__label__jun</td>\n",
       "    </tr>\n",
       "  </tbody>\n",
       "</table>\n",
       "</div>"
      ],
      "text/plain": [
       "   jon           jun\n",
       "0   an  __label__jun\n",
       "1   ju  __label__jun\n",
       "2  jin  __label__jun\n",
       "3  nun  __label__jun\n",
       "4   un  __label__jun"
      ]
     },
     "execution_count": 4,
     "metadata": {},
     "output_type": "execute_result"
    }
   ],
   "source": [
    "MOE_data.head()"
   ]
  },
  {
   "cell_type": "code",
   "execution_count": 3,
   "metadata": {},
   "outputs": [],
   "source": [
    "MOE_data['jun']='__label__' + MOE_data['jun'].astype(str)"
   ]
  },
  {
   "cell_type": "code",
   "execution_count": 5,
   "metadata": {},
   "outputs": [],
   "source": [
    " MOE_data.to_csv(\"moetrain.txt\")"
   ]
  },
  {
   "cell_type": "code",
   "execution_count": 10,
   "metadata": {},
   "outputs": [],
   "source": [
    "MOE_data.to_csv(r'moedata.txt', index=False, sep=' ', header=False)"
   ]
  },
  {
   "cell_type": "code",
   "execution_count": null,
   "metadata": {},
   "outputs": [],
   "source": []
  },
  {
   "cell_type": "code",
   "execution_count": 12,
   "metadata": {},
   "outputs": [
    {
     "name": "stdout",
     "output_type": "stream",
     "text": [
      " 20068963  40136790 528805279 moedata.txt\r\n"
     ]
    }
   ],
   "source": [
    "! wc moedata.txt\n"
   ]
  },
  {
   "cell_type": "code",
   "execution_count": null,
   "metadata": {},
   "outputs": [],
   "source": []
  },
  {
   "cell_type": "code",
   "execution_count": 4,
   "metadata": {},
   "outputs": [
    {
     "name": "stdout",
     "output_type": "stream",
     "text": [
      "بbm __label__fbmf\r\n",
      "fbm __label__fbmf\r\n",
      "laniuyi __label__lanhuzi\r\n",
      "lanhuy __label__lanhuzi\r\n",
      "bridewatch __label__bridgewatch\r\n",
      "brdgewatch __label__bridgewatch\r\n",
      "com/playersviktor_bologan/ __label__com/players/viktor_bologan/\r\n",
      "com/player/viktor_bologan/ __label__com/players/viktor_bologan/\r\n",
      "ctarc __label__ctasc\r\n",
      "rtasc __label__ctasc\r\n"
     ]
    }
   ],
   "source": [
    "! tail moedata.txt"
   ]
  },
  {
   "cell_type": "code",
   "execution_count": 2,
   "metadata": {},
   "outputs": [],
   "source": [
    "! head -n 100000  moedata.txt > moe.train"
   ]
  },
  {
   "cell_type": "code",
   "execution_count": 13,
   "metadata": {},
   "outputs": [],
   "source": [
    "! tail -n 10068963 moedata.txt > moe.valid"
   ]
  },
  {
   "cell_type": "code",
   "execution_count": 5,
   "metadata": {},
   "outputs": [],
   "source": [
    "import fasttext"
   ]
  },
  {
   "cell_type": "code",
   "execution_count": 6,
   "metadata": {},
   "outputs": [],
   "source": [
    "model_moe=fasttext.train_supervised(input=\"moe.train\")"
   ]
  },
  {
   "cell_type": "code",
   "execution_count": 14,
   "metadata": {},
   "outputs": [
    {
     "data": {
      "text/plain": [
       "(0, nan, nan)"
      ]
     },
     "execution_count": 14,
     "metadata": {},
     "output_type": "execute_result"
    }
   ],
   "source": [
    "model_moe.test(\"moe.valid\")"
   ]
  },
  {
   "cell_type": "code",
   "execution_count": 16,
   "metadata": {},
   "outputs": [],
   "source": [
    "import fasttext.util"
   ]
  },
  {
   "cell_type": "code",
   "execution_count": null,
   "metadata": {},
   "outputs": [],
   "source": [
    "ft = fasttext.load_model('cc.en.300.bin')"
   ]
  },
  {
   "cell_type": "code",
   "execution_count": 69,
   "metadata": {},
   "outputs": [],
   "source": [
    "#hospital_data = pd.read_csv('dataset/Hospital_Training.csv', sep=' ')"
   ]
  },
  {
   "cell_type": "code",
   "execution_count": 80,
   "metadata": {},
   "outputs": [],
   "source": [
    "hospital_data = pd.read_csv('dataset/spelling.csv', sep=' ')"
   ]
  },
  {
   "cell_type": "code",
   "execution_count": 81,
   "metadata": {},
   "outputs": [
    {
     "data": {
      "text/html": [
       "<div>\n",
       "<style scoped>\n",
       "    .dataframe tbody tr th:only-of-type {\n",
       "        vertical-align: middle;\n",
       "    }\n",
       "\n",
       "    .dataframe tbody tr th {\n",
       "        vertical-align: top;\n",
       "    }\n",
       "\n",
       "    .dataframe thead th {\n",
       "        text-align: right;\n",
       "    }\n",
       "</style>\n",
       "<table border=\"1\" class=\"dataframe\">\n",
       "  <thead>\n",
       "    <tr style=\"text-align: right;\">\n",
       "      <th></th>\n",
       "      <th>mxrshxll</th>\n",
       "      <th>marshall</th>\n",
       "    </tr>\n",
       "  </thead>\n",
       "  <tbody>\n",
       "    <tr>\n",
       "      <th>0</th>\n",
       "      <td>laudxrdalx</td>\n",
       "      <td>lauderdale</td>\n",
       "    </tr>\n",
       "    <tr>\n",
       "      <th>1</th>\n",
       "      <td>laudexdale</td>\n",
       "      <td>lauderdale</td>\n",
       "    </tr>\n",
       "    <tr>\n",
       "      <th>2</th>\n",
       "      <td>crxnshaw</td>\n",
       "      <td>crenshaw</td>\n",
       "    </tr>\n",
       "    <tr>\n",
       "      <th>3</th>\n",
       "      <td>jeffersxn</td>\n",
       "      <td>jefferson</td>\n",
       "    </tr>\n",
       "    <tr>\n",
       "      <th>4</th>\n",
       "      <td>xlarke</td>\n",
       "      <td>clarke</td>\n",
       "    </tr>\n",
       "  </tbody>\n",
       "</table>\n",
       "</div>"
      ],
      "text/plain": [
       "     mxrshxll    marshall\n",
       "0  laudxrdalx  lauderdale\n",
       "1  laudexdale  lauderdale\n",
       "2    crxnshaw    crenshaw\n",
       "3   jeffersxn   jefferson\n",
       "4      xlarke      clarke"
      ]
     },
     "execution_count": 81,
     "metadata": {},
     "output_type": "execute_result"
    }
   ],
   "source": [
    "hospital_data.head()"
   ]
  },
  {
   "cell_type": "code",
   "execution_count": 83,
   "metadata": {},
   "outputs": [],
   "source": [
    "hospital_data['mxrshxll']='__label__' + hospital_data['mxrshxll'].astype(str)"
   ]
  },
  {
   "cell_type": "code",
   "execution_count": 84,
   "metadata": {},
   "outputs": [],
   "source": [
    "hospital_data.to_csv(r'dataset/training_hospital.txt', index=False, sep=' ', header=False)"
   ]
  },
  {
   "cell_type": "code",
   "execution_count": 85,
   "metadata": {},
   "outputs": [
    {
     "name": "stdout",
     "output_type": "stream",
     "text": [
      " 39  78 999 dataset/training_hospital.txt\r\n"
     ]
    }
   ],
   "source": [
    "! wc dataset/training_hospital.txt"
   ]
  },
  {
   "cell_type": "code",
   "execution_count": 86,
   "metadata": {},
   "outputs": [],
   "source": [
    "! head -n 20  dataset/training_hospital.txt > dataset/hospital.train"
   ]
  },
  {
   "cell_type": "code",
   "execution_count": 87,
   "metadata": {},
   "outputs": [],
   "source": [
    "! tail -n 19  dataset/training_hospital.txt > dataset/hospital.valid"
   ]
  },
  {
   "cell_type": "code",
   "execution_count": 10,
   "metadata": {},
   "outputs": [],
   "source": [
    "model_hospital=fasttext.train_supervised(input=\"dataset/hospital.train\")"
   ]
  },
  {
   "cell_type": "code",
   "execution_count": 11,
   "metadata": {},
   "outputs": [
    {
     "data": {
      "text/plain": [
       "(0, nan, nan)"
      ]
     },
     "execution_count": 11,
     "metadata": {},
     "output_type": "execute_result"
    }
   ],
   "source": [
    "model_hospital.test(\"dataset/hospital.valid\")"
   ]
  },
  {
   "cell_type": "code",
   "execution_count": 79,
   "metadata": {},
   "outputs": [
    {
     "data": {
      "text/plain": [
       "[(0.0, '35007'),\n",
       " (0.0, '10039'),\n",
       " (0.0, '10035'),\n",
       " (0.0, '35957'),\n",
       " (0.0, '36049'),\n",
       " (0.0, '10045'),\n",
       " (0.0, '35631'),\n",
       " (0.0, '10038'),\n",
       " (0.0, '10006'),\n",
       " (0.0, '10108')]"
      ]
     },
     "execution_count": 79,
     "metadata": {},
     "output_type": "execute_result"
    }
   ],
   "source": [
    "model_hospital.get_nearest_neighbors('1xx19')"
   ]
  },
  {
   "cell_type": "code",
   "execution_count": 3,
   "metadata": {},
   "outputs": [],
   "source": [
    "model = fasttext.train_supervised(\"dataset/hospital.train\", wordNgrams=3, epoch=100)"
   ]
  },
  {
   "cell_type": "code",
   "execution_count": 4,
   "metadata": {},
   "outputs": [],
   "source": [
    "def print_results(N, p, r):\n",
    "    print(\"N\\t\" + str(N))\n",
    "    print(\"P@{}\\t{:.3f}\".format(1, p))\n",
    "    print(\"R@{}\\t{:.3f}\".format(1, r))\n"
   ]
  },
  {
   "cell_type": "code",
   "execution_count": 5,
   "metadata": {},
   "outputs": [
    {
     "name": "stdout",
     "output_type": "stream",
     "text": [
      "N\t0\n",
      "P@1\tnan\n",
      "R@1\tnan\n"
     ]
    }
   ],
   "source": [
    "print_results(*model.test('dataset/hospital.valid'))"
   ]
  },
  {
   "cell_type": "code",
   "execution_count": 8,
   "metadata": {},
   "outputs": [
    {
     "name": "stdout",
     "output_type": "stream",
     "text": [
      "{'__label__calhoxn': {'precision': nan, 'recall': nan, 'f1score': nan}, '__label__xefferson': {'precision': nan, 'recall': nan, 'f1score': nan}, '__label__tallaxega': {'precision': nan, 'recall': nan, 'f1score': nan}, '__label__jexxerson': {'precision': nan, 'recall': nan, 'f1score': nan}, '__label__chxrokxx': {'precision': nan, 'recall': nan, 'f1score': nan}, '__label__laudexdale': {'precision': nan, 'recall': nan, 'f1score': nan}, '__label__caxhoun': {'precision': nan, 'recall': nan, 'f1score': nan}, '__label__elmoxe': {'precision': nan, 'recall': nan, 'f1score': nan}, '__label__housxon': {'precision': nan, 'recall': nan, 'f1score': nan}, '__label__jxffxrson': {'precision': nan, 'recall': nan, 'f1score': nan}, '__label__jeffersxn': {'precision': nan, 'recall': nan, 'f1score': nan}, '__label__xlarke': {'precision': nan, 'recall': nan, 'f1score': nan}, '__label__chaxbers': {'precision': nan, 'recall': nan, 'f1score': nan}, '__label__xee': {'precision': nan, 'recall': nan, 'f1score': nan}, '__label__laudxrdalx': {'precision': nan, 'recall': nan, 'f1score': nan}, '__label__monxgomery': {'precision': nan, 'recall': nan, 'f1score': nan}, '__label__crxnshaw': {'precision': nan, 'recall': nan, 'f1score': nan}, '__label__coffxx': {'precision': nan, 'recall': nan, 'f1score': nan}, '__label__xhambers': {'precision': nan, 'recall': nan, 'f1score': nan}, '__label__montgomexy': {'precision': nan, 'recall': nan, 'f1score': nan}}\n"
     ]
    }
   ],
   "source": [
    "print(model.test_label('dataset/hospital.valid'))"
   ]
  },
  {
   "cell_type": "code",
   "execution_count": 7,
   "metadata": {},
   "outputs": [],
   "source": [
    "! pip install git+https://github.com/facebookresearch/fastText.git@b64e359d5485dda4b4b5074494155d18e25c8d13 --quiet"
   ]
  },
  {
   "cell_type": "code",
   "execution_count": 12,
   "metadata": {},
   "outputs": [
    {
     "ename": "ModuleNotFoundError",
     "evalue": "No module named 'fastText'",
     "output_type": "error",
     "traceback": [
      "\u001b[0;31m---------------------------------------------------------------------------\u001b[0m",
      "\u001b[0;31mModuleNotFoundError\u001b[0m                       Traceback (most recent call last)",
      "\u001b[0;32m<ipython-input-12-e0f786ed1177>\u001b[0m in \u001b[0;36m<module>\u001b[0;34m\u001b[0m\n\u001b[0;32m----> 1\u001b[0;31m \u001b[0;32mimport\u001b[0m \u001b[0mfastText\u001b[0m\u001b[0;34m.\u001b[0m\u001b[0mFastText\u001b[0m \u001b[0;32mas\u001b[0m \u001b[0mfasttext\u001b[0m\u001b[0;34m\u001b[0m\u001b[0;34m\u001b[0m\u001b[0m\n\u001b[0m\u001b[1;32m      2\u001b[0m \u001b[0;34m\u001b[0m\u001b[0m\n\u001b[1;32m      3\u001b[0m \u001b[0;32mdef\u001b[0m \u001b[0mprint_results\u001b[0m\u001b[0;34m(\u001b[0m\u001b[0mN\u001b[0m\u001b[0;34m,\u001b[0m \u001b[0mp\u001b[0m\u001b[0;34m,\u001b[0m \u001b[0mr\u001b[0m\u001b[0;34m)\u001b[0m\u001b[0;34m:\u001b[0m\u001b[0;34m\u001b[0m\u001b[0;34m\u001b[0m\u001b[0m\n\u001b[1;32m      4\u001b[0m     \u001b[0mprint\u001b[0m\u001b[0;34m(\u001b[0m\u001b[0;34m\"N\\t\"\u001b[0m \u001b[0;34m+\u001b[0m \u001b[0mstr\u001b[0m\u001b[0;34m(\u001b[0m\u001b[0mN\u001b[0m\u001b[0;34m)\u001b[0m\u001b[0;34m)\u001b[0m\u001b[0;34m\u001b[0m\u001b[0;34m\u001b[0m\u001b[0m\n\u001b[1;32m      5\u001b[0m     \u001b[0mprint\u001b[0m\u001b[0;34m(\u001b[0m\u001b[0;34m\"P@{}\\t{:.3f}\"\u001b[0m\u001b[0;34m.\u001b[0m\u001b[0mformat\u001b[0m\u001b[0;34m(\u001b[0m\u001b[0;36m1\u001b[0m\u001b[0;34m,\u001b[0m \u001b[0mp\u001b[0m\u001b[0;34m)\u001b[0m\u001b[0;34m)\u001b[0m\u001b[0;34m\u001b[0m\u001b[0;34m\u001b[0m\u001b[0m\n",
      "\u001b[0;31mModuleNotFoundError\u001b[0m: No module named 'fastText'"
     ]
    }
   ],
   "source": [
    "import fastText.FastText as fasttext\n",
    "\n",
    "def print_results(N, p, r):\n",
    "    print(\"N\\t\" + str(N))\n",
    "    print(\"P@{}\\t{:.3f}\".format(1, p))\n",
    "    print(\"R@{}\\t{:.3f}\".format(1, r))"
   ]
  }
 ],
 "metadata": {
  "kernelspec": {
   "display_name": "Python 3",
   "language": "python",
   "name": "python3"
  },
  "language_info": {
   "codemirror_mode": {
    "name": "ipython",
    "version": 3
   },
   "file_extension": ".py",
   "mimetype": "text/x-python",
   "name": "python",
   "nbconvert_exporter": "python",
   "pygments_lexer": "ipython3",
   "version": "3.5.2"
  }
 },
 "nbformat": 4,
 "nbformat_minor": 4
}
