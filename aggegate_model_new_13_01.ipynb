{
 "cells": [
  {
   "cell_type": "code",
   "execution_count": 1,
   "metadata": {},
   "outputs": [],
   "source": [
    "########################################\n",
    "import os\n",
    "import re\n",
    "import json\n",
    "import random\n",
    "import pickle\n",
    "import operator\n",
    "import itertools\n",
    "\n",
    "import numpy\n",
    "import sklearn.ensemble\n",
    "import sklearn.linear_model\n",
    "import sklearn.feature_extraction\n",
    "import pandas\n",
    "import html\n",
    "#import raha\n",
    "########################################"
   ]
  },
  {
   "cell_type": "code",
   "execution_count": 2,
   "metadata": {},
   "outputs": [],
   "source": [
    "import os\n",
    "import re\n",
    "import io\n",
    "import sys\n",
    "import math\n",
    "import json\n",
    "import html\n",
    "import pickle\n",
    "import difflib\n",
    "import unicodedata\n",
    "import bs4\n",
    "import bz2\n",
    "import py7zr\n",
    "import numpy\n",
    "import mwparserfromhell\n",
    "import libarchive.public\n",
    "#import dataset\n",
    "import wikitextparser as wtp\n",
    "from pprint import pprint\n",
    "from wikitextparser import remove_markup, parse\n",
    "import datetime\n",
    "from pandas import DataFrame\n",
    "import random\n",
    "import pickle\n",
    "import pandas as pd\n",
    "import logging\n",
    "from datasets import *\n",
    "import pandas"
   ]
  },
  {
   "cell_type": "code",
   "execution_count": 3,
   "metadata": {},
   "outputs": [],
   "source": [
    "def evaluate_model (total_error, total_error_to_repair, total_correction):\n",
    "        if total_error_to_repair==0:\n",
    "            precision=0.00\n",
    "        else:\n",
    "            precision=total_correction/total_error_to_repair\n",
    "            precision=round(precision,2)\n",
    "        if total_error==0:\n",
    "            recall=0.00\n",
    "        else:\n",
    "            recall=total_correction/total_error\n",
    "            recall=round(recall,2)\n",
    "        if (precision+recall)==0:\n",
    "            f_score=0.00\n",
    "        else:\n",
    "            f_score=(2 * precision * recall) / (precision + recall) \n",
    "            f_score=round(f_score,2)     \n",
    "        return precision, recall,f_score"
   ]
  },
  {
   "cell_type": "code",
   "execution_count": 20,
   "metadata": {},
   "outputs": [],
   "source": [
    "dataset_name=\"hospital\"\n",
    "path= os.path.abspath(os.path.join( \"datasets\", dataset_name, \"repaired_updated.csv\"))"
   ]
  },
  {
   "cell_type": "code",
   "execution_count": 21,
   "metadata": {},
   "outputs": [],
   "source": [
    "dataframe = pandas.read_csv(path)\n",
    "#dataframe"
   ]
  },
  {
   "cell_type": "code",
   "execution_count": 24,
   "metadata": {},
   "outputs": [],
   "source": [
    "fds=\"rate\""
   ]
  },
  {
   "cell_type": "code",
   "execution_count": 28,
   "metadata": {},
   "outputs": [
    {
     "name": "stdout",
     "output_type": "stream",
     "text": [
      "yes\n"
     ]
    }
   ],
   "source": [
    "k=dataframe[fds].dtypes\n",
    "if k==\"float64\":\n",
    "    print('yes')"
   ]
  },
  {
   "cell_type": "code",
   "execution_count": 22,
   "metadata": {},
   "outputs": [
    {
     "name": "stdout",
     "output_type": "stream",
     "text": [
      "0.5 1.0 229 230\n"
     ]
    }
   ],
   "source": [
    "# New version 16.01.2021\n",
    "# THreshold and coeeficient fixed\n",
    "total_error=4920\n",
    "total_error_to_reapir=0\n",
    "total_repair=0\n",
    "coeff_e=0\n",
    "prob_e=0\n",
    "prob_f=0\n",
    "threshold=0.75\n",
    "repaired=None\n",
    "aggre_prob=coeff_e*prob_e+(1-coeff_e)*prob_f\n",
    "for coeff in [0.50]:\n",
    "    total_error_to_reapir=0\n",
    "    total_repair=0\n",
    "    for actual, repair_e, prob_e, repair_f,prob_f in zip(dataframe['actual'],dataframe['edit'],dataframe['prob_e'],dataframe['fasttext'],dataframe['prob_f']):\n",
    "        aggre_prob=coeff*prob_e+(1-coeff)*prob_f\n",
    "        if repair_e !=\"NAE\" and repair_f!=\"NAE\" and repair_e==repair_f and prob_e>=0.50:\n",
    "            total_error_to_reapir=total_error_to_reapir+1\n",
    "            repaired=repair_e    \n",
    "            if actual==repaired:\n",
    "                total_repair=total_repair+1 \n",
    "        elif coeff==0:\n",
    "            if prob_f>=0.99 and repair_f!=\"NAE\" and aggre_prob>=threshold:\n",
    "                total_error_to_reapir=total_error_to_reapir+1\n",
    "                repaired=repair_f\n",
    "                if actual==repaired:\n",
    "                    total_repair=total_repair+1 \n",
    "        elif coeff==1:\n",
    "            if prob_e>=0.50 and repair_e !=\"NAE\" and repair_e and aggre_prob>=threshold:\n",
    "                total_error_to_reapir=total_error_to_reapir+1\n",
    "                repaired=repair_f\n",
    "                if actual==repaired:\n",
    "                    total_repair=total_repair+1    \n",
    "        elif prob_f>=0.90 and repair_f!=\"NAE\" and aggre_prob>=threshold:\n",
    "            total_error_to_reapir=total_error_to_reapir+1\n",
    "            repaired=repair_f\n",
    "            if actual==repaired:\n",
    "                total_repair=total_repair+1\n",
    "        elif prob_e>=0.50 and repair_e !=\"NAE\" and repair_e and aggre_prob>=threshold:\n",
    "            total_error_to_reapir=total_error_to_reapir+1\n",
    "            repaired=repair_e\n",
    "            if actual==repaired:\n",
    "                total_repair=total_repair+1   \n",
    "\n",
    "    p,r,f=evaluate_model(total_error,total_error_to_reapir,total_repair)\n",
    "    print(coeff,p,total_repair,total_error_to_reapir)\n"
   ]
  },
  {
   "cell_type": "code",
   "execution_count": 8,
   "metadata": {},
   "outputs": [
    {
     "data": {
      "text/plain": [
       "0.02"
      ]
     },
     "execution_count": 8,
     "metadata": {},
     "output_type": "execute_result"
    }
   ],
   "source": [
    "f"
   ]
  },
  {
   "cell_type": "code",
   "execution_count": 23,
   "metadata": {},
   "outputs": [
    {
     "name": "stdout",
     "output_type": "stream",
     "text": [
      "1.0 0.05 0.1 229\n"
     ]
    }
   ],
   "source": [
    "# THreshold and coeeficient fixed\n",
    "total_error=4920\n",
    "total_error_to_reapir=0\n",
    "total_repair=0\n",
    "coeff_e=0\n",
    "prob_e=0\n",
    "prob_f=0\n",
    "threshold=0.75\n",
    "repaired=None\n",
    "aggre_prob=coeff_e*prob_e+(1-coeff_e)*prob_f\n",
    "for coeff in [0.50]:\n",
    "    total_error_to_reapir=0\n",
    "    total_repair=0\n",
    "    for actual, repair_e, prob_e, repair_f,prob_f in zip(dataframe['actual'],dataframe['edit'],dataframe['prob_e'],dataframe['fasttext'],dataframe['prob_f']):\n",
    "        if repair_e==\"NAE\":\n",
    "            prob_e=0\n",
    "        if repair_f==\"NAE\":\n",
    "            prob_f=0       \n",
    "        aggre_prob=coeff*prob_e+(1-coeff)*prob_f\n",
    "        if repair_e !=\"NAE\" and repair_f!=\"NAE\" and repair_e==repair_f and prob_e>=0.50:\n",
    "            total_error_to_reapir=total_error_to_reapir+1\n",
    "            repaired=repair_e    \n",
    "            if actual==repaired:\n",
    "                total_repair=total_repair+1 \n",
    "        elif coeff==0:\n",
    "            if prob_f>=.90 and repair_f!=\"NAE\" and aggre_prob>=threshold:\n",
    "                total_error_to_reapir=total_error_to_reapir+1\n",
    "                repaired=repair_f\n",
    "                if actual==repaired:\n",
    "                    total_repair=total_repair+1 \n",
    "        elif coeff==1:\n",
    "            if prob_e>=0.50 and repair_e !=\"NAE\" and repair_e and aggre_prob>=threshold:\n",
    "                total_error_to_reapir=total_error_to_reapir+1\n",
    "                repaired=repair_f\n",
    "                if actual==repaired:\n",
    "                    total_repair=total_repair+1    \n",
    "        elif prob_f>=.90 and repair_f!=\"NAE\" and aggre_prob>=threshold:\n",
    "            total_error_to_reapir=total_error_to_reapir+1\n",
    "            repaired=repair_f\n",
    "            if actual==repaired:\n",
    "                total_repair=total_repair+1\n",
    "        elif prob_e>=0.50 and repair_e !=\"NAE\" and repair_e and aggre_prob>=threshold:\n",
    "            total_error_to_reapir=total_error_to_reapir+1\n",
    "            repaired=repair_f\n",
    "            if actual==repaired:\n",
    "                total_repair=total_repair+1   \n",
    "\n",
    "p,r,f=evaluate_model(total_error,total_error_to_reapir,total_repair)\n",
    "print(p,r,f,total_repair)\n"
   ]
  },
  {
   "cell_type": "code",
   "execution_count": 39,
   "metadata": {},
   "outputs": [
    {
     "data": {
      "image/png": "[encoded data removed]",
      "text/plain": [
       "<Figure size 640x480 with 1 Axes>"
      ]
     },
     "metadata": {},
     "output_type": "display_data"
    }
   ],
   "source": [
    "import matplotlib.pyplot as plt; plt.rcdefaults()\n",
    "import numpy as np\n",
    "import matplotlib.pyplot as plt\n",
    "\n",
    "objects =  ['Precision', 'Recall', 'F-Score']\n",
    "y_pos = np.arange(len(objects))\n",
    "performance = [1.00,0.02,0.01]\n",
    "\n",
    "plt.bar(y_pos, performance, align='center', alpha=0.5)\n",
    "plt.xticks(y_pos, objects)\n",
    "\n",
    "for i, v in enumerate(performance):\n",
    "    plt.text(y_pos[i] - 0.25, v + 0.01, str(v))\n",
    "\n",
    "\n",
    "plt.ylabel('Score')\n",
    "plt.title('Tax Dataset: Coeff_Edit=0.50, Threshold=0.75')\n",
    "\n",
    "plt.show()"
   ]
  },
  {
   "cell_type": "code",
   "execution_count": 24,
   "metadata": {},
   "outputs": [
    {
     "name": "stdout",
     "output_type": "stream",
     "text": [
      "0.0 0.99 232 235\n",
      "0.25 0.93 241 259\n",
      "0.5 1.0 229 230\n",
      "0.75 1.0 229 230\n",
      "1.0 1.0 229 230\n"
     ]
    }
   ],
   "source": [
    "# THreshold fixed and coefficient variants\n",
    "# THreshold and coeeficient fixed\n",
    "total_error=4920\n",
    "total_error_to_reapir=0\n",
    "total_repair=0\n",
    "coeff_e=0\n",
    "prob_e=0\n",
    "prob_f=0\n",
    "threshold=0.75\n",
    "repaired=None\n",
    "aggre_prob=coeff_e*prob_e+(1-coeff_e)*prob_f\n",
    "for coeff in [0.00,0.25,0.50,0.75,1.00]:\n",
    "   # total_error=4920\n",
    "    total_error_to_reapir=0\n",
    "    total_repair=0\n",
    "    coeff_e=0\n",
    "    prob_e=0\n",
    "    prob_f=0\n",
    "    threshold=0.75\n",
    "    repaired=None\n",
    "    total_error_to_reapir=0\n",
    "    total_repair=0\n",
    "    for actual, repair_e, prob_e, repair_f,prob_f in zip(dataframe['actual'],dataframe['edit'],dataframe['prob_e'],dataframe['fasttext'],dataframe['prob_f']):\n",
    "        aggre_prob=coeff*prob_e+(1-coeff)*prob_f\n",
    "        if repair_e !=\"NAE\" and repair_f!=\"NAE\" and repair_e==repair_f and prob_e>=0.50:\n",
    "            total_error_to_reapir=total_error_to_reapir+1\n",
    "            repaired=repair_e    \n",
    "            if actual==repaired:\n",
    "                total_repair=total_repair+1 \n",
    "        elif coeff==0:\n",
    "            if prob_f>=0.99 and repair_f!=\"NAE\" and aggre_prob>=threshold:\n",
    "                total_error_to_reapir=total_error_to_reapir+1\n",
    "                repaired=repair_f\n",
    "                if actual==repaired:\n",
    "                    total_repair=total_repair+1 \n",
    "        elif coeff==1:\n",
    "            if prob_e>=0.50 and repair_e !=\"NAE\" and repair_e and aggre_prob>=threshold:\n",
    "                total_error_to_reapir=total_error_to_reapir+1\n",
    "                repaired=repair_f\n",
    "                if actual==repaired:\n",
    "                    total_repair=total_repair+1    \n",
    "        elif prob_f>=0.90 and repair_f!=\"NAE\" and aggre_prob>=threshold:\n",
    "            total_error_to_reapir=total_error_to_reapir+1\n",
    "            repaired=repair_f\n",
    "            if actual==repaired:\n",
    "                total_repair=total_repair+1\n",
    "        elif prob_e>=0.50 and repair_e !=\"NAE\" and repair_e and aggre_prob>=threshold:\n",
    "            total_error_to_reapir=total_error_to_reapir+1\n",
    "            repaired=repair_e\n",
    "            if actual==repaired:\n",
    "                total_repair=total_repair+1   \n",
    "\n",
    "    p,r,f=evaluate_model(total_error,total_error_to_reapir,total_repair)\n",
    "    print(coeff,p,total_repair,total_error_to_reapir)\n",
    "\n"
   ]
  },
  {
   "cell_type": "code",
   "execution_count": 42,
   "metadata": {},
   "outputs": [
    {
     "data": {
      "image/png": "[encoded data removed]",
      "text/plain": [
       "<Figure size 640x480 with 1 Axes>"
      ]
     },
     "metadata": {},
     "output_type": "display_data"
    }
   ],
   "source": [
    "import matplotlib.pyplot as plt; plt.rcdefaults()\n",
    "import numpy as np\n",
    "import matplotlib.pyplot as plt\n",
    "\n",
    "objects =  [0.00,0.25,0.50,0.75,1.00]\n",
    "y_pos = np.arange(len(objects))\n",
    "performance = [1.0,0.99,1.0,0.0,0.0]\n",
    "\n",
    "plt.bar(y_pos, performance, align='center', alpha=0.5)\n",
    "plt.xticks(y_pos, objects)\n",
    "\n",
    "for i, v in enumerate(performance):\n",
    "    plt.text(y_pos[i] - 0.25, v + 0.01, str(v))\n",
    "\n",
    "\n",
    "plt.ylabel('Precision')\n",
    "plt.xlabel('Coefficient of Prob_E')\n",
    "plt.title('Tax Dataset: Coeff_Edit=0-1,0, Threshold=0.75')\n",
    "\n",
    "plt.show()"
   ]
  },
  {
   "cell_type": "code",
   "execution_count": 25,
   "metadata": {},
   "outputs": [
    {
     "name": "stdout",
     "output_type": "stream",
     "text": [
      "0.1 0.72 246 340\n",
      "0.2 0.72 246 340\n",
      "0.3 0.75 246 330\n",
      "0.4 0.8 246 306\n",
      "0.5 0.88 243 275\n",
      "0.6 0.91 242 267\n",
      "0.7 0.93 239 258\n",
      "0.8 1.0 229 230\n",
      "0.9 1.0 229 230\n"
     ]
    }
   ],
   "source": [
    "# THreshold variants and coefficient fixed\n",
    "# THreshold and coeeficient fixed\n",
    "total_error=121219\n",
    "total_error_to_reapir=0\n",
    "total_repair=0\n",
    "coeff_e=0\n",
    "prob_e=0\n",
    "prob_f=0\n",
    "coeff=0.50\n",
    "repaired=None\n",
    "aggre_prob=coeff_e*prob_e+(1-coeff_e)*prob_f\n",
    "for threshold in [0.10,0.20,0.30,0.40,0.50,0.60,0.70,0.80,0.90]:\n",
    "   # total_error=4920\n",
    "    total_error_to_reapir=0\n",
    "    total_repair=0\n",
    "    coeff_e=0\n",
    "    prob_e=0\n",
    "    prob_f=0\n",
    "   # threshold=0.75\n",
    "    repaired=None\n",
    "    total_error_to_reapir=0\n",
    "    total_repair=0\n",
    "    for actual, repair_e, prob_e, repair_f,prob_f in zip(dataframe['actual'],dataframe['edit'],dataframe['prob_e'],dataframe['fasttext'],dataframe['prob_f']):\n",
    "        aggre_prob=coeff*prob_e+(1-coeff)*prob_f\n",
    "        if repair_e !=\"NAE\" and repair_f!=\"NAE\" and repair_e==repair_f and prob_e>=0.50:\n",
    "            total_error_to_reapir=total_error_to_reapir+1\n",
    "            repaired=repair_e    \n",
    "            if actual==repaired:\n",
    "                total_repair=total_repair+1 \n",
    "        elif coeff==0:\n",
    "            if prob_f>=0.99 and repair_f!=\"NAE\" and aggre_prob>=threshold:\n",
    "                total_error_to_reapir=total_error_to_reapir+1\n",
    "                repaired=repair_f\n",
    "                if actual==repaired:\n",
    "                    total_repair=total_repair+1 \n",
    "        elif coeff==1:\n",
    "            if prob_e>=0.50 and repair_e !=\"NAE\" and repair_e and aggre_prob>=threshold:\n",
    "                total_error_to_reapir=total_error_to_reapir+1\n",
    "                repaired=repair_f\n",
    "                if actual==repaired:\n",
    "                    total_repair=total_repair+1    \n",
    "        elif prob_f>=0.90 and repair_f!=\"NAE\" and aggre_prob>=threshold:\n",
    "            total_error_to_reapir=total_error_to_reapir+1\n",
    "            repaired=repair_f\n",
    "            if actual==repaired:\n",
    "                total_repair=total_repair+1\n",
    "        elif prob_e>=0.50 and repair_e !=\"NAE\" and repair_e and aggre_prob>=threshold:\n",
    "            total_error_to_reapir=total_error_to_reapir+1\n",
    "            repaired=repair_f\n",
    "            if actual==repaired:\n",
    "                total_repair=total_repair+1  \n",
    "        #print(aggre_prob)\n",
    "\n",
    "    p,r,f=evaluate_model(total_error,total_error_to_reapir,total_repair)\n",
    "    print(threshold,p,total_repair,total_error_to_reapir)\n",
    "\n"
   ]
  },
  {
   "cell_type": "code",
   "execution_count": 44,
   "metadata": {},
   "outputs": [
    {
     "data": {
      "image/png": "[encoded data removed]",
      "text/plain": [
       "<Figure size 640x480 with 1 Axes>"
      ]
     },
     "metadata": {},
     "output_type": "display_data"
    }
   ],
   "source": [
    "import matplotlib.pyplot as plt; plt.rcdefaults()\n",
    "import numpy as np\n",
    "import matplotlib.pyplot as plt\n",
    "\n",
    "objects =  [0.10,0.20,0.30,0.40,0.50,0.60,0.70,0.80,0.90]\n",
    "y_pos = np.arange(len(objects))\n",
    "performance = [0.05,0.05,0.08,0.42,0.82,0.97,0.99,1.0,0.0]\n",
    "\n",
    "plt.bar(y_pos, performance, align='center', alpha=0.5)\n",
    "plt.xticks(y_pos, objects)\n",
    "\n",
    "for i, v in enumerate(performance):\n",
    "    plt.text(y_pos[i] - 0.25, v + 0.01, str(v))\n",
    "\n",
    "\n",
    "plt.ylabel('Precision')\n",
    "plt.xlabel('Threshold')\n",
    "plt.title('Tax Dataset: Coeff_Edit=0.50, Threshold=0.1-0.90')\n",
    "\n",
    "plt.show()"
   ]
  },
  {
   "cell_type": "code",
   "execution_count": 13,
   "metadata": {},
   "outputs": [],
   "source": [
    "dataset_name=\"flights\"\n",
    "path= os.path.abspath(os.path.join( \"datasets\", dataset_name, \"repaired_updated.csv\"))\n",
    "dataframe = pandas.read_csv(path)"
   ]
  },
  {
   "cell_type": "markdown",
   "metadata": {},
   "source": [
    "# Back up"
   ]
  },
  {
   "cell_type": "code",
   "execution_count": null,
   "metadata": {},
   "outputs": [],
   "source": [
    "total_error=509\n",
    "total_error_to_reapir=0\n",
    "total_repair=0\n",
    "coeff_e=0\n",
    "prob_e=0\n",
    "prob_f=0\n",
    "threshold=0.30\n",
    "repaired=None\n",
    "aggre_prob=coeff_e*prob_e+(1-coeff_e)*prob_f\n",
    "for coeff in [1.00]:\n",
    "    total_error_to_reapir=0\n",
    "    total_repair=0\n",
    "    for actual, repair_e, prob_e, repair_f,prob_f in zip(dataframe['actual'],dataframe['edit'],dataframe['prob_e'],dataframe['fasttext'],dataframe['prob_f']):\n",
    "        aggre_prob=coeff*prob_e+(1-coeff)*prob_f\n",
    "        if coeff==0:\n",
    "            if prob_f>=0.99 and repair_f!=\"NAE\" and aggre_prob>=threshold:\n",
    "                total_error_to_reapir=total_error_to_reapir+1\n",
    "                repaired=repair_f\n",
    "                if actual==repaired:\n",
    "                    total_repair=total_repair+1 \n",
    "        elif coeff==1:\n",
    "            if prob_e>=0.50 and repair_e !=\"NAE\" and repair_e and aggre_prob>=threshold:\n",
    "                total_error_to_reapir=total_error_to_reapir+1\n",
    "                repaired=repair_f\n",
    "                if actual==repaired:\n",
    "                    total_repair=total_repair+1    \n",
    "        elif repair_e !=\"NAE\" and repair_f!=\"NAE\" and repair_e==repair_f and prob_e>=0.50 and aggre_prob>=threshold:\n",
    "            total_error_to_reapir=total_error_to_reapir+1\n",
    "            repaired=repair_e    \n",
    "            if actual==repaired:\n",
    "                total_repair=total_repair+1 \n",
    "        elif prob_f>=0.99 and repair_f!=\"NAE\" and aggre_prob>=threshold:\n",
    "            total_error_to_reapir=total_error_to_reapir+1\n",
    "            repaired=repair_f\n",
    "            if actual==repaired:\n",
    "                total_repair=total_repair+1\n",
    "        elif prob_e>=0.50 and repair_e !=\"NAE\" and repair_e and aggre_prob>=threshold:\n",
    "            total_error_to_reapir=total_error_to_reapir+1\n",
    "            repaired=repair_f\n",
    "            if actual==repaired:\n",
    "                total_repair=total_repair+1   \n",
    "\n",
    "p,r,f=evaluate_model(total_error,total_error_to_reapir,total_repair)\n",
    "print(p,r,f,total_repair,total_error_to_reapir)"
   ]
  }
 ],
 "metadata": {
  "kernelspec": {
   "display_name": "Python 3",
   "language": "python",
   "name": "python3"
  },
  "language_info": {
   "codemirror_mode": {
    "name": "ipython",
    "version": 3
   },
   "file_extension": ".py",
   "mimetype": "text/x-python",
   "name": "python",
   "nbconvert_exporter": "python",
   "pygments_lexer": "ipython3",
   "version": "3.5.2"
  }
 },
 "nbformat": 4,
 "nbformat_minor": 2
}
