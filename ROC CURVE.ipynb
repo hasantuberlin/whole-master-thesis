{
 "cells": [
  {
   "cell_type": "code",
   "execution_count": 1,
   "metadata": {},
   "outputs": [],
   "source": [
    "import pandas as pd #To hand with data \n",
    "import numpy as np #To math \n",
    "import seaborn as sns #to visualization\n",
    "import matplotlib.pyplot as plt # to plot the graphs\n",
    "import matplotlib.gridspec as gridspec # to do the grid of plots\n",
    "from sklearn.metrics import confusion_matrix, auc, roc_curve\n",
    "import matplotlib.pyplot as plt\n",
    "plt.style.use('seaborn')"
   ]
  },
  {
   "cell_type": "code",
   "execution_count": 2,
   "metadata": {},
   "outputs": [],
   "source": [
    "LABELS=['Fine-Tne Supervised Fasttext With DC','Fine-Tune Supervised Fasttext Without DC']"
   ]
  },
  {
   "cell_type": "markdown",
   "metadata": {},
   "source": [
    "# Tax"
   ]
  },
  {
   "cell_type": "code",
   "execution_count": 3,
   "metadata": {},
   "outputs": [],
   "source": [
    "tax_dc=pd.read_csv(\"datasets/tax/DC_threshold.csv\")\n",
    "tax_wdc=pd.read_csv(\"datasets/tax/WDC_threshold.csv\")"
   ]
  },
  {
   "cell_type": "code",
   "execution_count": 4,
   "metadata": {},
   "outputs": [],
   "source": [
    "tax_dc['TPR']=tax_dc['TP']/tax_dc['TP']+tax_dc['FP']\n",
    "tax_dc['FPR']=tax_dc['FP']/tax_dc['TP']+tax_dc['FP']"
   ]
  },
  {
   "cell_type": "code",
   "execution_count": 5,
   "metadata": {},
   "outputs": [
    {
     "data": {
      "text/html": [
       "<div>\n",
       "<style scoped>\n",
       "    .dataframe tbody tr th:only-of-type {\n",
       "        vertical-align: middle;\n",
       "    }\n",
       "\n",
       "    .dataframe tbody tr th {\n",
       "        vertical-align: top;\n",
       "    }\n",
       "\n",
       "    .dataframe thead th {\n",
       "        text-align: right;\n",
       "    }\n",
       "</style>\n",
       "<table border=\"1\" class=\"dataframe\">\n",
       "  <thead>\n",
       "    <tr style=\"text-align: right;\">\n",
       "      <th></th>\n",
       "      <th>precision</th>\n",
       "      <th>recall</th>\n",
       "      <th>TP</th>\n",
       "      <th>FP</th>\n",
       "      <th>threshold</th>\n",
       "      <th>TPR</th>\n",
       "      <th>FPR</th>\n",
       "    </tr>\n",
       "  </thead>\n",
       "  <tbody>\n",
       "    <tr>\n",
       "      <th>0</th>\n",
       "      <td>1.00</td>\n",
       "      <td>0.01</td>\n",
       "      <td>1037.0</td>\n",
       "      <td>0.0</td>\n",
       "      <td>0.99</td>\n",
       "      <td>1.0</td>\n",
       "      <td>0.000000</td>\n",
       "    </tr>\n",
       "    <tr>\n",
       "      <th>1</th>\n",
       "      <td>1.00</td>\n",
       "      <td>0.01</td>\n",
       "      <td>1136.0</td>\n",
       "      <td>0.0</td>\n",
       "      <td>0.90</td>\n",
       "      <td>1.0</td>\n",
       "      <td>0.000000</td>\n",
       "    </tr>\n",
       "    <tr>\n",
       "      <th>2</th>\n",
       "      <td>1.00</td>\n",
       "      <td>0.01</td>\n",
       "      <td>1211.0</td>\n",
       "      <td>0.0</td>\n",
       "      <td>0.80</td>\n",
       "      <td>1.0</td>\n",
       "      <td>0.000000</td>\n",
       "    </tr>\n",
       "    <tr>\n",
       "      <th>3</th>\n",
       "      <td>1.00</td>\n",
       "      <td>0.01</td>\n",
       "      <td>1221.0</td>\n",
       "      <td>0.0</td>\n",
       "      <td>0.70</td>\n",
       "      <td>1.0</td>\n",
       "      <td>0.000000</td>\n",
       "    </tr>\n",
       "    <tr>\n",
       "      <th>4</th>\n",
       "      <td>1.00</td>\n",
       "      <td>0.01</td>\n",
       "      <td>1252.0</td>\n",
       "      <td>0.0</td>\n",
       "      <td>0.60</td>\n",
       "      <td>1.0</td>\n",
       "      <td>0.000000</td>\n",
       "    </tr>\n",
       "    <tr>\n",
       "      <th>5</th>\n",
       "      <td>1.00</td>\n",
       "      <td>0.01</td>\n",
       "      <td>1252.0</td>\n",
       "      <td>0.0</td>\n",
       "      <td>0.50</td>\n",
       "      <td>1.0</td>\n",
       "      <td>0.000000</td>\n",
       "    </tr>\n",
       "    <tr>\n",
       "      <th>6</th>\n",
       "      <td>1.00</td>\n",
       "      <td>0.01</td>\n",
       "      <td>1252.0</td>\n",
       "      <td>0.0</td>\n",
       "      <td>0.40</td>\n",
       "      <td>1.0</td>\n",
       "      <td>0.000000</td>\n",
       "    </tr>\n",
       "    <tr>\n",
       "      <th>7</th>\n",
       "      <td>1.00</td>\n",
       "      <td>0.01</td>\n",
       "      <td>1333.0</td>\n",
       "      <td>0.0</td>\n",
       "      <td>0.30</td>\n",
       "      <td>1.0</td>\n",
       "      <td>0.000000</td>\n",
       "    </tr>\n",
       "    <tr>\n",
       "      <th>8</th>\n",
       "      <td>1.00</td>\n",
       "      <td>0.01</td>\n",
       "      <td>1333.0</td>\n",
       "      <td>0.0</td>\n",
       "      <td>0.20</td>\n",
       "      <td>1.0</td>\n",
       "      <td>0.000000</td>\n",
       "    </tr>\n",
       "    <tr>\n",
       "      <th>9</th>\n",
       "      <td>0.96</td>\n",
       "      <td>0.01</td>\n",
       "      <td>1345.0</td>\n",
       "      <td>55.0</td>\n",
       "      <td>0.10</td>\n",
       "      <td>56.0</td>\n",
       "      <td>55.040892</td>\n",
       "    </tr>\n",
       "  </tbody>\n",
       "</table>\n",
       "</div>"
      ],
      "text/plain": [
       "   precision  recall      TP    FP  threshold   TPR        FPR\n",
       "0       1.00    0.01  1037.0   0.0       0.99   1.0   0.000000\n",
       "1       1.00    0.01  1136.0   0.0       0.90   1.0   0.000000\n",
       "2       1.00    0.01  1211.0   0.0       0.80   1.0   0.000000\n",
       "3       1.00    0.01  1221.0   0.0       0.70   1.0   0.000000\n",
       "4       1.00    0.01  1252.0   0.0       0.60   1.0   0.000000\n",
       "5       1.00    0.01  1252.0   0.0       0.50   1.0   0.000000\n",
       "6       1.00    0.01  1252.0   0.0       0.40   1.0   0.000000\n",
       "7       1.00    0.01  1333.0   0.0       0.30   1.0   0.000000\n",
       "8       1.00    0.01  1333.0   0.0       0.20   1.0   0.000000\n",
       "9       0.96    0.01  1345.0  55.0       0.10  56.0  55.040892"
      ]
     },
     "execution_count": 5,
     "metadata": {},
     "output_type": "execute_result"
    }
   ],
   "source": [
    "tax_dc"
   ]
  },
  {
   "cell_type": "code",
   "execution_count": null,
   "metadata": {},
   "outputs": [],
   "source": [
    "tax_wdc.head()"
   ]
  },
  {
   "cell_type": "code",
   "execution_count": 6,
   "metadata": {},
   "outputs": [
    {
     "name": "stdout",
     "output_type": "stream",
     "text": [
      "0.0\n"
     ]
    }
   ],
   "source": [
    "roc_auc = auc(tax_dc['recall'], tax_dc['precision'])\n",
    "print(roc_auc)"
   ]
  },
  {
   "cell_type": "code",
   "execution_count": 7,
   "metadata": {},
   "outputs": [
    {
     "data": {
      "image/png": "[encoded data removed]",
      "text/plain": [
       "<Figure size 432x288 with 1 Axes>"
      ]
     },
     "metadata": {
      "needs_background": "light"
     },
     "output_type": "display_data"
    }
   ],
   "source": [
    "plt.plot(tax_dc['precision'], tax_dc['recall'], linestyle='--',color='orange', label='Supervised Fasttext With DC')\n",
    "plt.plot(tax_wdc['precision'], tax_wdc['recall'], linestyle='--',color='green', label='Supervised Fasttext Without DC')\n",
    "#plt.plot(tax_wdc['precision'], tax_wdc['recall'],  linestyle='--', color='blue')\n",
    "# title\n",
    "plt.title('ROC Curve: Tax Dataset')\n",
    "# x label\n",
    "plt.xlabel('Precision')\n",
    "# y label\n",
    "plt.ylabel('Recall')\n",
    "\n",
    "plt.legend(loc='best')\n",
    "plt.savefig('ROC_Tax',dpi=300)\n",
    "plt.show();"
   ]
  },
  {
   "cell_type": "markdown",
   "metadata": {},
   "source": [
    "# Hospital"
   ]
  },
  {
   "cell_type": "code",
   "execution_count": 5,
   "metadata": {},
   "outputs": [],
   "source": [
    "hos_dc=pd.read_csv(\"datasets/hospital/DC_threshold.csv\")\n",
    "hos_wdc=pd.read_csv(\"datasets/hospital/WDC_threshold.csv\")"
   ]
  },
  {
   "cell_type": "code",
   "execution_count": 21,
   "metadata": {},
   "outputs": [
    {
     "data": {
      "image/png": "[encoded data removed]",
      "text/plain": [
       "<Figure size 576x396 with 1 Axes>"
      ]
     },
     "metadata": {},
     "output_type": "display_data"
    }
   ],
   "source": [
    "plt.plot(hos_dc['precision'], hos_dc['recall'], linestyle='--',color='orange', label='Supervised Fasttext With DC')\n",
    "plt.plot(hos_wdc['precision'], hos_wdc['recall'], linestyle='--',color='green', label='Supervised Fasttext Without DC')\n",
    "#plt.plot(tax_wdc['precision'], tax_wdc['recall'],  linestyle='--', color='blue')\n",
    "# title\n",
    "plt.title('ROC Curve: Hospital Dataset')\n",
    "# x label\n",
    "plt.xlabel('Precision')\n",
    "# y label\n",
    "plt.ylabel('Recall')\n",
    "\n",
    "plt.legend(loc='best')\n",
    "plt.savefig('ROC_Hospital',dpi=300)\n",
    "plt.show();"
   ]
  },
  {
   "cell_type": "markdown",
   "metadata": {},
   "source": [
    "# Flights"
   ]
  },
  {
   "cell_type": "code",
   "execution_count": 6,
   "metadata": {},
   "outputs": [],
   "source": [
    "flights_dc=pd.read_csv(\"datasets/flights/DC_threshold.csv\")\n",
    "flights_wdc=pd.read_csv(\"datasets/flights/WDC_threshold.csv\")"
   ]
  },
  {
   "cell_type": "code",
   "execution_count": 22,
   "metadata": {},
   "outputs": [
    {
     "data": {
      "image/png": "[encoded data removed]",
      "text/plain": [
       "<Figure size 576x396 with 1 Axes>"
      ]
     },
     "metadata": {},
     "output_type": "display_data"
    }
   ],
   "source": [
    "plt.plot(flights_dc['precision'], flights_dc['recall'], linestyle='--',color='orange', label='Supervised Fasttext With DC')\n",
    "plt.plot(flights_wdc['precision'], flights_wdc['recall'], linestyle='--',color='green', label='Supervised Fasttext Without DC')\n",
    "#plt.plot(tax_wdc['precision'], tax_wdc['recall'],  linestyle='--', color='blue')\n",
    "# title\n",
    "plt.title('ROC Curve: Flights Dataset')\n",
    "# x label\n",
    "plt.xlabel('Precision')\n",
    "# y label\n",
    "plt.ylabel('Recall')\n",
    "\n",
    "plt.legend(loc='best')\n",
    "plt.savefig('ROC_Flights',dpi=300)\n",
    "plt.show();"
   ]
  }
 ],
 "metadata": {
  "kernelspec": {
   "display_name": "Python 3",
   "language": "python",
   "name": "python3"
  },
  "language_info": {
   "codemirror_mode": {
    "name": "ipython",
    "version": 3
   },
   "file_extension": ".py",
   "mimetype": "text/x-python",
   "name": "python",
   "nbconvert_exporter": "python",
   "pygments_lexer": "ipython3",
   "version": "3.5.2"
  }
 },
 "nbformat": 4,
 "nbformat_minor": 2
}
